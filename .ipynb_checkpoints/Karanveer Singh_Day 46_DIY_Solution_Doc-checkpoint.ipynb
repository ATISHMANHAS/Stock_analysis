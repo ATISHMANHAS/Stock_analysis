{
 "cells": [
  {
   "cell_type": "code",
   "execution_count": 2,
   "id": "b3d1bc0d-498e-40f5-a09b-6e531b14b0e8",
   "metadata": {},
   "outputs": [
    {
     "name": "stdout",
     "output_type": "stream",
     "text": [
      "Original Words: ['running', 'ran', 'easily', 'fairly', 'fishing', 'fished']\n"
     ]
    }
   ],
   "source": [
    "import nltk\n",
    "from nltk.stem import PorterStemmer, LancasterStemmer\n",
    "from nltk.stem import WordNetLemmatizer\n",
    "from nltk.corpus import wordnet as wn\n",
    "\n",
    "words = [\"running\", \"ran\", \"easily\", \"fairly\", \"fishing\", \"fished\"]\n",
    "porter_stemmer = PorterStemmer()\n",
    "lancaster_stemmer = LancasterStemmer()\n",
    "\n",
    "print(\"Original Words:\", words)\n",
    "\n"
   ]
  },
  {
   "cell_type": "code",
   "execution_count": 3,
   "id": "6edca648-da23-4a8a-b42a-5932d074f10b",
   "metadata": {},
   "outputs": [
    {
     "name": "stdout",
     "output_type": "stream",
     "text": [
      "Porter Stems: ['run', 'ran', 'easili', 'fairli', 'fish', 'fish']\n",
      "Lancaster Stems: ['run', 'ran', 'easy', 'fair', 'fish', 'fish']\n"
     ]
    }
   ],
   "source": [
    "\n",
    "porter_stems = [porter_stemmer.stem(word) for word in words]\n",
    "print(\"Porter Stems:\", porter_stems)\n",
    "\n",
    "lancaster_stems = [lancaster_stemmer.stem(word) for word in words]\n",
    "print(\"Lancaster Stems:\", lancaster_stems)\n",
    "\n"
   ]
  },
  {
   "cell_type": "code",
   "execution_count": 4,
   "id": "f822c207-cde1-4896-a24b-0df51cacddef",
   "metadata": {},
   "outputs": [
    {
     "name": "stdout",
     "output_type": "stream",
     "text": [
      "Original Sentence: The cats are running and they caught a fish easily.\n",
      "Lemmatized Sentence: The cat are running and they caught a fish easily .\n"
     ]
    }
   ],
   "source": [
    "lemmatizer = WordNetLemmatizer()\n",
    "sentence = \"The cats are running and they caught a fish easily.\"\n",
    "tokens = nltk.word_tokenize(sentence)\n",
    "\n",
    "lemmatized_tokens = [lemmatizer.lemmatize(token) for token in tokens]\n",
    "print(\"Original Sentence:\", sentence)\n",
    "print(\"Lemmatized Sentence:\", ' '.join(lemmatized_tokens))\n",
    "\n"
   ]
  },
  {
   "cell_type": "code",
   "execution_count": 5,
   "id": "2a310eba-b0c8-402c-b226-8ece60c83aaa",
   "metadata": {},
   "outputs": [
    {
     "name": "stdout",
     "output_type": "stream",
     "text": [
      "Synonyms for 'bank':\n",
      "1. bank.n.01: sloping land (especially the slope beside a body of water)\n",
      "2. depository_financial_institution.n.01: a financial institution that accepts deposits and channels the money into lending activities\n",
      "3. bank.n.03: a long ridge or pile\n",
      "4. bank.n.04: an arrangement of similar objects in a row or in tiers\n",
      "5. bank.n.05: a supply or stock held in reserve for future use (especially in emergencies)\n",
      "6. bank.n.06: the funds held by a gambling house or the dealer in some gambling games\n",
      "7. bank.n.07: a slope in the turn of a road or track; the outside is higher than the inside in order to reduce the effects of centrifugal force\n",
      "8. savings_bank.n.02: a container (usually with a slot in the top) for keeping money at home\n",
      "9. bank.n.09: a building in which the business of banking transacted\n",
      "10. bank.n.10: a flight maneuver; aircraft tips laterally about its longitudinal axis (especially in turning)\n",
      "11. bank.v.01: tip laterally\n",
      "12. bank.v.02: enclose with a bank\n",
      "13. bank.v.03: do business with a bank or keep an account at a bank\n",
      "14. bank.v.04: act as the banker in a game or in gambling\n",
      "15. bank.v.05: be in the banking business\n",
      "16. deposit.v.02: put into a bank account\n",
      "17. bank.v.07: cover with ashes so to control the rate of burning\n",
      "18. trust.v.01: have confidence or faith in\n",
      "Synonyms for 'bank':\n",
      "1. bank.n.01: sloping land (especially the slope beside a body of water)\n",
      "2. depository_financial_institution.n.01: a financial institution that accepts deposits and channels the money into lending activities\n",
      "3. bank.n.03: a long ridge or pile\n",
      "4. bank.n.04: an arrangement of similar objects in a row or in tiers\n",
      "5. bank.n.05: a supply or stock held in reserve for future use (especially in emergencies)\n",
      "6. bank.n.06: the funds held by a gambling house or the dealer in some gambling games\n",
      "7. bank.n.07: a slope in the turn of a road or track; the outside is higher than the inside in order to reduce the effects of centrifugal force\n",
      "8. savings_bank.n.02: a container (usually with a slot in the top) for keeping money at home\n",
      "9. bank.n.09: a building in which the business of banking transacted\n",
      "10. bank.n.10: a flight maneuver; aircraft tips laterally about its longitudinal axis (especially in turning)\n",
      "11. bank.v.01: tip laterally\n",
      "12. bank.v.02: enclose with a bank\n",
      "13. bank.v.03: do business with a bank or keep an account at a bank\n",
      "14. bank.v.04: act as the banker in a game or in gambling\n",
      "15. bank.v.05: be in the banking business\n",
      "16. deposit.v.02: put into a bank account\n",
      "17. bank.v.07: cover with ashes so to control the rate of burning\n",
      "18. trust.v.01: have confidence or faith in\n"
     ]
    }
   ],
   "source": [
    "sentence1 = \"He went to the bank to fish.\"\n",
    "sentence2 = \"She sat on the bank of the river.\"\n",
    "\n",
    "def wsd_example(word, sentence):\n",
    "    synsets = wn.synsets(word)\n",
    "    if synsets:\n",
    "        print(f\"Synonyms for '{word}':\")\n",
    "        for i, synset in enumerate(synsets):\n",
    "            print(f\"{i+1}. {synset.name()}: {synset.definition()}\")\n",
    "\n",
    "wsd_example(\"bank\", sentence1)\n",
    "wsd_example(\"bank\", sentence2)\n"
   ]
  },
  {
   "cell_type": "code",
   "execution_count": null,
   "id": "f918d61b-1a20-432d-8206-06fb51e385d3",
   "metadata": {},
   "outputs": [],
   "source": []
  }
 ],
 "metadata": {
  "kernelspec": {
   "display_name": "Python 3 (ipykernel)",
   "language": "python",
   "name": "python3"
  },
  "language_info": {
   "codemirror_mode": {
    "name": "ipython",
    "version": 3
   },
   "file_extension": ".py",
   "mimetype": "text/x-python",
   "name": "python",
   "nbconvert_exporter": "python",
   "pygments_lexer": "ipython3",
   "version": "3.12.4"
  }
 },
 "nbformat": 4,
 "nbformat_minor": 5
}
