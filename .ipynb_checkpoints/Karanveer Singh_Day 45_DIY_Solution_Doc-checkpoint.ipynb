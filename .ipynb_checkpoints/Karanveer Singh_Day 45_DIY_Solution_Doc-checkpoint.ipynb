{
 "cells": [
  {
   "cell_type": "code",
   "execution_count": 4,
   "id": "c275282a-ea21-4c6a-856e-8b3607545718",
   "metadata": {},
   "outputs": [],
   "source": [
    "import nltk\n",
    "\n"
   ]
  },
  {
   "cell_type": "code",
   "execution_count": 7,
   "id": "1f783efe-dd20-4d17-95db-6e71768de5f8",
   "metadata": {},
   "outputs": [
    {
     "name": "stdout",
     "output_type": "stream",
     "text": [
      "Tokens: ['What', 'is', 'Lorem', 'Ipsum', '?', 'Lorem', 'Ipsum', 'is', 'simply', 'dummy', 'text', 'of', 'the', 'printing', 'and', 'typesetting', 'industry', '.', 'Lorem', 'Ipsum', 'has', 'been', 'the', 'industry', \"'s\", 'standard', 'dummy', 'text', 'ever', 'since', 'the', '1500s', ',', 'when', 'an', 'unknown', 'printer', 'took', 'a', 'galley', 'of', 'type', 'and', 'scrambled', 'it', 'to', 'make', 'a', 'type', 'specimen', 'book', '.', 'It', 'has', 'survived', 'not', 'only', 'five', 'centuries', ',', 'but', 'also', 'the', 'leap', 'into', 'electronic', 'typesetting', ',', 'remaining', 'essentially', 'unchanged', '.', 'It', 'was', 'popularised', 'in', 'the', '1960s', 'with', 'the', 'release', 'of', 'Letraset', 'sheets', 'containing', 'Lorem', 'Ipsum', 'passages', ',', 'and', 'more', 'recently', 'with', 'desktop', 'publishing', 'software', 'like', 'Aldus', 'PageMaker', 'including', 'versions', 'of', 'Lorem', 'Ipsum', '.']\n"
     ]
    }
   ],
   "source": [
    "import nltk\n",
    "import re\n",
    "from nltk.tokenize import word_tokenize\n",
    "from nltk.util import bigrams, trigrams\n",
    "from nltk.corpus import stopwords\n",
    "\n",
    "with open('demotext.txt', 'r', encoding='utf-8') as file:\n",
    "    text = file.read()\n",
    "\n",
    "tokens = word_tokenize(text)\n",
    "print(\"Tokens:\", tokens)\n",
    "\n"
   ]
  },
  {
   "cell_type": "code",
   "execution_count": 8,
   "id": "7e3004e9-d32c-46f6-8e03-00aca0773748",
   "metadata": {},
   "outputs": [
    {
     "name": "stdout",
     "output_type": "stream",
     "text": [
      "Lowercase Tokens: ['what', 'is', 'lorem', 'ipsum', '?', 'lorem', 'ipsum', 'is', 'simply', 'dummy', 'text', 'of', 'the', 'printing', 'and', 'typesetting', 'industry', '.', 'lorem', 'ipsum', 'has', 'been', 'the', 'industry', \"'s\", 'standard', 'dummy', 'text', 'ever', 'since', 'the', '1500s', ',', 'when', 'an', 'unknown', 'printer', 'took', 'a', 'galley', 'of', 'type', 'and', 'scrambled', 'it', 'to', 'make', 'a', 'type', 'specimen', 'book', '.', 'it', 'has', 'survived', 'not', 'only', 'five', 'centuries', ',', 'but', 'also', 'the', 'leap', 'into', 'electronic', 'typesetting', ',', 'remaining', 'essentially', 'unchanged', '.', 'it', 'was', 'popularised', 'in', 'the', '1960s', 'with', 'the', 'release', 'of', 'letraset', 'sheets', 'containing', 'lorem', 'ipsum', 'passages', ',', 'and', 'more', 'recently', 'with', 'desktop', 'publishing', 'software', 'like', 'aldus', 'pagemaker', 'including', 'versions', 'of', 'lorem', 'ipsum', '.']\n",
      "Filtered Tokens (No Stop Words): ['lorem', 'ipsum', '?', 'lorem', 'ipsum', 'simply', 'dummy', 'text', 'printing', 'typesetting', 'industry', '.', 'lorem', 'ipsum', 'industry', \"'s\", 'standard', 'dummy', 'text', 'ever', 'since', '1500s', ',', 'unknown', 'printer', 'took', 'galley', 'type', 'scrambled', 'make', 'type', 'specimen', 'book', '.', 'survived', 'five', 'centuries', ',', 'also', 'leap', 'electronic', 'typesetting', ',', 'remaining', 'essentially', 'unchanged', '.', 'popularised', '1960s', 'release', 'letraset', 'sheets', 'containing', 'lorem', 'ipsum', 'passages', ',', 'recently', 'desktop', 'publishing', 'software', 'like', 'aldus', 'pagemaker', 'including', 'versions', 'lorem', 'ipsum', '.']\n"
     ]
    }
   ],
   "source": [
    "tokens_lower = [token.lower() for token in tokens]\n",
    "print(\"Lowercase Tokens:\", tokens_lower)\n",
    "\n",
    "\n",
    "stop_words = set(stopwords.words('english'))\n",
    "filtered_tokens = [token for token in tokens_lower if token not in stop_words]\n",
    "print(\"Filtered Tokens (No Stop Words):\", filtered_tokens)\n",
    "\n",
    "\n",
    "\n",
    "\n"
   ]
  },
  {
   "cell_type": "code",
   "execution_count": 9,
   "id": "4296b37f-35c3-4d44-859d-c2d3deacf450",
   "metadata": {},
   "outputs": [
    {
     "name": "stdout",
     "output_type": "stream",
     "text": [
      "Tokens after removing extra symbols: ['what', 'is', 'lorem', 'ipsum', 'lorem', 'ipsum', 'is', 'simply', 'dummy', 'text', 'of', 'the', 'printing', 'and', 'typesetting', 'industry', 'lorem', 'ipsum', 'has', 'been', 'the', 'industry', 'standard', 'dummy', 'text', 'ever', 'since', 'the', '1500s', 'when', 'an', 'unknown', 'printer', 'took', 'a', 'galley', 'of', 'type', 'and', 'scrambled', 'it', 'to', 'make', 'a', 'type', 'specimen', 'book', 'it', 'has', 'survived', 'not', 'only', 'five', 'centuries', 'but', 'also', 'the', 'leap', 'into', 'electronic', 'typesetting', 'remaining', 'essentially', 'unchanged', 'it', 'was', 'popularised', 'in', 'the', '1960s', 'with', 'the', 'release', 'of', 'letraset', 'sheets', 'containing', 'lorem', 'ipsum', 'passages', 'and', 'more', 'recently', 'with', 'desktop', 'publishing', 'software', 'like', 'aldus', 'pagemaker', 'including', 'versions', 'of', 'lorem', 'ipsum']\n",
      "Bigrams: [('what', 'is'), ('is', 'lorem'), ('lorem', 'ipsum'), ('ipsum', 'lorem'), ('lorem', 'ipsum'), ('ipsum', 'is'), ('is', 'simply'), ('simply', 'dummy'), ('dummy', 'text'), ('text', 'of'), ('of', 'the'), ('the', 'printing'), ('printing', 'and'), ('and', 'typesetting'), ('typesetting', 'industry'), ('industry', 'lorem'), ('lorem', 'ipsum'), ('ipsum', 'has'), ('has', 'been'), ('been', 'the'), ('the', 'industry'), ('industry', 'standard'), ('standard', 'dummy'), ('dummy', 'text'), ('text', 'ever'), ('ever', 'since'), ('since', 'the'), ('the', '1500s'), ('1500s', 'when'), ('when', 'an'), ('an', 'unknown'), ('unknown', 'printer'), ('printer', 'took'), ('took', 'a'), ('a', 'galley'), ('galley', 'of'), ('of', 'type'), ('type', 'and'), ('and', 'scrambled'), ('scrambled', 'it'), ('it', 'to'), ('to', 'make'), ('make', 'a'), ('a', 'type'), ('type', 'specimen'), ('specimen', 'book'), ('book', 'it'), ('it', 'has'), ('has', 'survived'), ('survived', 'not'), ('not', 'only'), ('only', 'five'), ('five', 'centuries'), ('centuries', 'but'), ('but', 'also'), ('also', 'the'), ('the', 'leap'), ('leap', 'into'), ('into', 'electronic'), ('electronic', 'typesetting'), ('typesetting', 'remaining'), ('remaining', 'essentially'), ('essentially', 'unchanged'), ('unchanged', 'it'), ('it', 'was'), ('was', 'popularised'), ('popularised', 'in'), ('in', 'the'), ('the', '1960s'), ('1960s', 'with'), ('with', 'the'), ('the', 'release'), ('release', 'of'), ('of', 'letraset'), ('letraset', 'sheets'), ('sheets', 'containing'), ('containing', 'lorem'), ('lorem', 'ipsum'), ('ipsum', 'passages'), ('passages', 'and'), ('and', 'more'), ('more', 'recently'), ('recently', 'with'), ('with', 'desktop'), ('desktop', 'publishing'), ('publishing', 'software'), ('software', 'like'), ('like', 'aldus'), ('aldus', 'pagemaker'), ('pagemaker', 'including'), ('including', 'versions'), ('versions', 'of'), ('of', 'lorem'), ('lorem', 'ipsum')]\n",
      "Trigrams: [('what', 'is', 'lorem'), ('is', 'lorem', 'ipsum'), ('lorem', 'ipsum', 'lorem'), ('ipsum', 'lorem', 'ipsum'), ('lorem', 'ipsum', 'is'), ('ipsum', 'is', 'simply'), ('is', 'simply', 'dummy'), ('simply', 'dummy', 'text'), ('dummy', 'text', 'of'), ('text', 'of', 'the'), ('of', 'the', 'printing'), ('the', 'printing', 'and'), ('printing', 'and', 'typesetting'), ('and', 'typesetting', 'industry'), ('typesetting', 'industry', 'lorem'), ('industry', 'lorem', 'ipsum'), ('lorem', 'ipsum', 'has'), ('ipsum', 'has', 'been'), ('has', 'been', 'the'), ('been', 'the', 'industry'), ('the', 'industry', 'standard'), ('industry', 'standard', 'dummy'), ('standard', 'dummy', 'text'), ('dummy', 'text', 'ever'), ('text', 'ever', 'since'), ('ever', 'since', 'the'), ('since', 'the', '1500s'), ('the', '1500s', 'when'), ('1500s', 'when', 'an'), ('when', 'an', 'unknown'), ('an', 'unknown', 'printer'), ('unknown', 'printer', 'took'), ('printer', 'took', 'a'), ('took', 'a', 'galley'), ('a', 'galley', 'of'), ('galley', 'of', 'type'), ('of', 'type', 'and'), ('type', 'and', 'scrambled'), ('and', 'scrambled', 'it'), ('scrambled', 'it', 'to'), ('it', 'to', 'make'), ('to', 'make', 'a'), ('make', 'a', 'type'), ('a', 'type', 'specimen'), ('type', 'specimen', 'book'), ('specimen', 'book', 'it'), ('book', 'it', 'has'), ('it', 'has', 'survived'), ('has', 'survived', 'not'), ('survived', 'not', 'only'), ('not', 'only', 'five'), ('only', 'five', 'centuries'), ('five', 'centuries', 'but'), ('centuries', 'but', 'also'), ('but', 'also', 'the'), ('also', 'the', 'leap'), ('the', 'leap', 'into'), ('leap', 'into', 'electronic'), ('into', 'electronic', 'typesetting'), ('electronic', 'typesetting', 'remaining'), ('typesetting', 'remaining', 'essentially'), ('remaining', 'essentially', 'unchanged'), ('essentially', 'unchanged', 'it'), ('unchanged', 'it', 'was'), ('it', 'was', 'popularised'), ('was', 'popularised', 'in'), ('popularised', 'in', 'the'), ('in', 'the', '1960s'), ('the', '1960s', 'with'), ('1960s', 'with', 'the'), ('with', 'the', 'release'), ('the', 'release', 'of'), ('release', 'of', 'letraset'), ('of', 'letraset', 'sheets'), ('letraset', 'sheets', 'containing'), ('sheets', 'containing', 'lorem'), ('containing', 'lorem', 'ipsum'), ('lorem', 'ipsum', 'passages'), ('ipsum', 'passages', 'and'), ('passages', 'and', 'more'), ('and', 'more', 'recently'), ('more', 'recently', 'with'), ('recently', 'with', 'desktop'), ('with', 'desktop', 'publishing'), ('desktop', 'publishing', 'software'), ('publishing', 'software', 'like'), ('software', 'like', 'aldus'), ('like', 'aldus', 'pagemaker'), ('aldus', 'pagemaker', 'including'), ('pagemaker', 'including', 'versions'), ('including', 'versions', 'of'), ('versions', 'of', 'lorem'), ('of', 'lorem', 'ipsum')]\n"
     ]
    }
   ],
   "source": [
    "pattern = r'\\w+'\n",
    "filtered_tokens_regex = [token for token in tokens_lower if re.match(pattern, token)]\n",
    "print(\"Tokens after removing extra symbols:\", filtered_tokens_regex)\n",
    "\n",
    "bigrams_list = list(bigrams(filtered_tokens_regex))\n",
    "trigrams_list = list(trigrams(filtered_tokens_regex))\n",
    "\n",
    "print(\"Bigrams:\", bigrams_list)\n",
    "print(\"Trigrams:\", trigrams_list)"
   ]
  },
  {
   "cell_type": "code",
   "execution_count": null,
   "id": "230fada9-bbfe-4b0e-a5f1-ad279106e233",
   "metadata": {},
   "outputs": [],
   "source": []
  }
 ],
 "metadata": {
  "kernelspec": {
   "display_name": "Python 3 (ipykernel)",
   "language": "python",
   "name": "python3"
  },
  "language_info": {
   "codemirror_mode": {
    "name": "ipython",
    "version": 3
   },
   "file_extension": ".py",
   "mimetype": "text/x-python",
   "name": "python",
   "nbconvert_exporter": "python",
   "pygments_lexer": "ipython3",
   "version": "3.12.4"
  }
 },
 "nbformat": 4,
 "nbformat_minor": 5
}
