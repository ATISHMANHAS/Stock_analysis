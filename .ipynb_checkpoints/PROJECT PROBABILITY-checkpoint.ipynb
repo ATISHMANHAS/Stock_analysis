{
 "cells": [
  {
   "cell_type": "code",
   "execution_count": null,
   "id": "9c9ee063-af0c-4698-8eec-6ffc2b4e2b4b",
   "metadata": {},
   "outputs": [],
   "source": [
    "Problem Statement 1: Confidence Interval for Customer Satisfaction"
   ]
  },
  {
   "cell_type": "code",
   "execution_count": 6,
   "id": "82467d53-167d-4c96-909c-9b50d998ea66",
   "metadata": {},
   "outputs": [
    {
     "name": "stdin",
     "output_type": "stream",
     "text": [
      "Enter the number of highly satisfied customers:  100\n"
     ]
    },
    {
     "name": "stdout",
     "output_type": "stream",
     "text": [
      "0.44185 0.55815\n"
     ]
    }
   ],
   "source": [
    "import numpy as np\n",
    "import scipy.stats as stats\n",
    "\n",
    "x = int(input(\"Enter the number of highly satisfied customers: \"))\n",
    "n = 200 \n",
    "p_hat = x / n\n",
    "\n",
    "z_critical = stats.norm.ppf(0.95)\n",
    "\n",
    "se = np.sqrt((p_hat * (1 - p_hat)) / n)\n",
    "\n",
    "margin_of_error = z_critical * se\n",
    "\n",
    "\n",
    "lower_bound = p_hat - margin_of_error\n",
    "upper_bound = p_hat + margin_of_error\n",
    "\n",
    "print(f\"{lower_bound:.5f} {upper_bound:.5f}\")\n"
   ]
  },
  {
   "cell_type": "code",
   "execution_count": null,
   "id": "2ef7b0f2-e05e-414f-9f76-0b81158a5694",
   "metadata": {},
   "outputs": [],
   "source": [
    "Problem Statement 2: Probability of Car Speed"
   ]
  },
  {
   "cell_type": "code",
   "execution_count": 3,
   "id": "68cfd47b-8db8-4c0a-af0a-b4006e6d4e66",
   "metadata": {},
   "outputs": [
    {
     "name": "stdin",
     "output_type": "stream",
     "text": [
      "Enter the speed X (km/hr):  60\n"
     ]
    },
    {
     "name": "stdout",
     "output_type": "stream",
     "text": [
      "0.8413\n"
     ]
    }
   ],
   "source": [
    "import scipy.stats as stats\n",
    "\n",
    "X = float(input(\"Enter the speed X (km/hr): \"))\n",
    "\n",
    "mean_speed = 75  \n",
    "std_dev_speed = 15  \n",
    "\n",
    "probability = 1 - stats.norm.cdf(X, mean_speed, std_dev_speed)\n",
    "\n",
    "print(f\"{probability:.4f}\")\n"
   ]
  },
  {
   "cell_type": "code",
   "execution_count": null,
   "id": "ad6e9ff5-8402-41a4-a071-bbd6c8c45074",
   "metadata": {},
   "outputs": [],
   "source": [
    "Problem Statement 3: Flood Probability Analysis"
   ]
  },
  {
   "cell_type": "code",
   "execution_count": 10,
   "id": "66c38606-cb4b-4c7a-ae13-a0dbad701322",
   "metadata": {},
   "outputs": [
    {
     "name": "stdout",
     "output_type": "stream",
     "text": [
      "Z-critical: 1.959963984540054\n",
      "Margin of Error: 0.2130595344634679\n",
      "Confidence Interval: (12.76054046553653, 13.186659534463468)\n"
     ]
    }
   ],
   "source": [
    "import pandas as pd\n",
    "from sklearn.datasets import load_wine\n",
    "\n",
    "\n",
    "\n",
    "wine = load_wine()\n",
    "df = pd.DataFrame(data=wine.data, columns=wine.feature_names)\n",
    "\n",
    "\n",
    "sample = df.sample(n=50, random_state=100)\n",
    "\n",
    "\n",
    "mean_alcohol = sample['alcohol'].mean()\n",
    "std_alcohol = sample['alcohol'].std()\n",
    "\n",
    "\n",
    "z_critical = stats.norm.ppf(0.975)  \n",
    "\n",
    "margin_of_error = z_critical * (std_alcohol / np.sqrt(50))\n",
    "\n",
    "\n",
    "lower_bound = mean_alcohol - margin_of_error\n",
    "upper_bound = mean_alcohol + margin_of_error\n",
    "\n",
    "\n",
    "print(f\"Z-critical: {z_critical}\")\n",
    "print(f\"Margin of Error: {margin_of_error}\")\n",
    "print(f\"Confidence Interval: ({lower_bound}, {upper_bound})\")\n"
   ]
  },
  {
   "cell_type": "code",
   "execution_count": null,
   "id": "fcc8f34c-c472-488b-b30c-f59a45816abf",
   "metadata": {},
   "outputs": [],
   "source": [
    "Problem Statement 4: Wine Dataset Confidence Interval"
   ]
  },
  {
   "cell_type": "code",
   "execution_count": 11,
   "id": "01610815-da61-45fc-aff8-80cdf14eebfb",
   "metadata": {},
   "outputs": [
    {
     "name": "stdout",
     "output_type": "stream",
     "text": [
      "Z-critical: 1.959963984540054\n",
      "Margin of Error: 0.2130595344634679\n",
      "Confidence Interval: (12.76054046553653, 13.186659534463468)\n"
     ]
    }
   ],
   "source": [
    "wine = load_wine()\n",
    "df = pd.DataFrame(data=wine.data, columns=wine.feature_names)\n",
    "\n",
    "sample = df.sample(n=50, random_state=100)\n",
    "\n",
    "mean_alcohol = sample['alcohol'].mean()\n",
    "std_alcohol = sample['alcohol'].std()\n",
    "\n",
    "z_critical = stats.norm.ppf(0.975)  # Two-tailed\n",
    "\n",
    "margin_of_error = z_critical * (std_alcohol / np.sqrt(50))\n",
    "\n",
    "lower_bound = mean_alcohol - margin_of_error\n",
    "upper_bound = mean_alcohol + margin_of_error\n",
    "\n",
    "print(f\"Z-critical: {z_critical}\")\n",
    "print(f\"Margin of Error: {margin_of_error}\")\n",
    "print(f\"Confidence Interval: ({lower_bound}, {upper_bound})\")\n"
   ]
  },
  {
   "cell_type": "code",
   "execution_count": null,
   "id": "48222eb0-bcf2-4de8-8e35-3dc25b6b943a",
   "metadata": {},
   "outputs": [],
   "source": []
  }
 ],
 "metadata": {
  "kernelspec": {
   "display_name": "Python 3 (ipykernel)",
   "language": "python",
   "name": "python3"
  },
  "language_info": {
   "codemirror_mode": {
    "name": "ipython",
    "version": 3
   },
   "file_extension": ".py",
   "mimetype": "text/x-python",
   "name": "python",
   "nbconvert_exporter": "python",
   "pygments_lexer": "ipython3",
   "version": "3.12.4"
  }
 },
 "nbformat": 4,
 "nbformat_minor": 5
}
