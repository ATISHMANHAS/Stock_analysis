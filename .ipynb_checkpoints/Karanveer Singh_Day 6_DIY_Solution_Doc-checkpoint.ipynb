{
 "cells": [
  {
   "cell_type": "code",
   "execution_count": 2,
   "id": "884b64e0-88de-4911-940c-49e04f75a74d",
   "metadata": {},
   "outputs": [],
   "source": [
    "import numpy as np"
   ]
  },
  {
   "cell_type": "code",
   "execution_count": null,
   "id": "d6b547fe-9970-4092-94bd-84fc5983a3f2",
   "metadata": {},
   "outputs": [],
   "source": [
    "Problem statement-- Understanding Numpy array"
   ]
  },
  {
   "cell_type": "code",
   "execution_count": 3,
   "id": "2a04828f-f2ba-4b03-b4b8-0711d91c1ef5",
   "metadata": {},
   "outputs": [],
   "source": [
    "n =np.arange(1,31,2)"
   ]
  },
  {
   "cell_type": "code",
   "execution_count": 4,
   "id": "1492398f-5bd9-47c1-90a1-82754c52a6ec",
   "metadata": {},
   "outputs": [
    {
     "name": "stdout",
     "output_type": "stream",
     "text": [
      "[ 1  3  5  7  9 11 13 15 17 19 21 23 25 27 29]\n",
      "<class 'numpy.ndarray'>\n"
     ]
    }
   ],
   "source": [
    "print(n)\n",
    "print(type(n))"
   ]
  },
  {
   "cell_type": "code",
   "execution_count": null,
   "id": "762aa726-f2f4-4397-9ef8-baf864c45a3b",
   "metadata": {},
   "outputs": [],
   "source": [
    "Problem Statement-Size Comparison"
   ]
  },
  {
   "cell_type": "code",
   "execution_count": 9,
   "id": "6d1dcab6-6b1e-4da7-b871-0bbb6196cc14",
   "metadata": {},
   "outputs": [
    {
     "name": "stdout",
     "output_type": "stream",
     "text": [
      "Size of singlr element of list :  28\n",
      "The size of whole list :  280\n",
      "Size of singlr element of array:  8\n",
      "The size of whole array :  72\n",
      "Size of singlr element of array:  8\n",
      "The size of whole array :  96\n",
      "Size of singlr element of array:  8\n",
      "The size of whole array :  160\n"
     ]
    }
   ],
   "source": [
    "import sys\n",
    "x =[1,2,3,4,5,6,7,8,9,10]\n",
    "y = np.array([1,2,3,4,5,6,7,8,9])\n",
    "z = np.array([[1,2,3,4,5,6],[1,2,3,4,5,6]])\n",
    "q = np.array([[[1,2,3,4,5],[4,5,6,7,8]],[[1,2,3,4,5],[2,3,4,5,6]]])\n",
    "print(\"Size of singlr element of list : \",sys.getsizeof(x[0]))\n",
    "print(\"The size of whole list : \",sys.getsizeof(x[0])*len(x))\n",
    "print(\"Size of singlr element of array: \",y.itemsize)\n",
    "print(\"The size of whole array : \",y.itemsize * y.size)\n",
    "print(\"Size of singlr element of array: \",z.itemsize)\n",
    "print(\"The size of whole array : \",z.itemsize * z.size)\n",
    "print(\"Size of singlr element of array: \",q.itemsize)\n",
    "print(\"The size of whole array : \",q.itemsize * q.size)"
   ]
  },
  {
   "cell_type": "code",
   "execution_count": null,
   "id": "e0c06cca-d826-44ae-8e66-75ac90ec0ede",
   "metadata": {},
   "outputs": [],
   "source": []
  },
  {
   "cell_type": "code",
   "execution_count": 14,
   "id": "298bf0c3-6429-4ef5-b588-2841fa0d3219",
   "metadata": {},
   "outputs": [],
   "source": []
  },
  {
   "cell_type": "code",
   "execution_count": null,
   "id": "ab25ae9b-fe32-4b4c-a2e9-84a591524749",
   "metadata": {},
   "outputs": [],
   "source": [
    "\n"
   ]
  },
  {
   "cell_type": "code",
   "execution_count": null,
   "id": "1fad6249-c550-459e-8f14-fa89cfdc19e9",
   "metadata": {},
   "outputs": [],
   "source": []
  },
  {
   "cell_type": "code",
   "execution_count": null,
   "id": "b459e750-46d8-4a7c-8409-e4f15cf16245",
   "metadata": {},
   "outputs": [],
   "source": []
  },
  {
   "cell_type": "code",
   "execution_count": 20,
   "id": "132223dc-9cb4-4d6e-8006-f2a002240a44",
   "metadata": {},
   "outputs": [],
   "source": []
  },
  {
   "cell_type": "code",
   "execution_count": null,
   "id": "7d7ed796-4b27-460e-8123-b04a605c613c",
   "metadata": {},
   "outputs": [],
   "source": []
  },
  {
   "cell_type": "code",
   "execution_count": null,
   "id": "16ba09e8-3863-4fca-a359-70853071afeb",
   "metadata": {},
   "outputs": [],
   "source": []
  },
  {
   "cell_type": "code",
   "execution_count": null,
   "id": "b4fc4e51-252e-476f-a19f-50f7741b6c4f",
   "metadata": {},
   "outputs": [],
   "source": []
  },
  {
   "cell_type": "code",
   "execution_count": null,
   "id": "c51319f8-e755-4620-a8f4-010f78d52d07",
   "metadata": {},
   "outputs": [],
   "source": []
  },
  {
   "cell_type": "code",
   "execution_count": null,
   "id": "0093b06c-78cd-414b-a5bd-0a20cca0ea4e",
   "metadata": {},
   "outputs": [],
   "source": []
  },
  {
   "cell_type": "code",
   "execution_count": null,
   "id": "531304c8-c0a0-4461-8963-18d1ffbf0e05",
   "metadata": {},
   "outputs": [],
   "source": []
  },
  {
   "cell_type": "code",
   "execution_count": null,
   "id": "b91ea71a-3062-4c64-af4b-3312a7a126a8",
   "metadata": {},
   "outputs": [],
   "source": []
  },
  {
   "cell_type": "code",
   "execution_count": null,
   "id": "fec41881-ce75-4a82-af84-cea528fb4bbc",
   "metadata": {},
   "outputs": [],
   "source": []
  },
  {
   "cell_type": "code",
   "execution_count": null,
   "id": "9a3a193f-6e2a-4fd8-a406-abc065abeacd",
   "metadata": {},
   "outputs": [],
   "source": [
    "\n"
   ]
  },
  {
   "cell_type": "code",
   "execution_count": null,
   "id": "858d41fb-d724-4683-9c9a-d26f083971d1",
   "metadata": {},
   "outputs": [],
   "source": []
  },
  {
   "cell_type": "code",
   "execution_count": null,
   "id": "68182083-c08c-4082-9c6a-dfdd8b6d21c3",
   "metadata": {},
   "outputs": [],
   "source": []
  },
  {
   "cell_type": "code",
   "execution_count": null,
   "id": "44340302-fdfa-486c-8b82-5cfc2bf24ec9",
   "metadata": {},
   "outputs": [],
   "source": []
  }
 ],
 "metadata": {
  "kernelspec": {
   "display_name": "Python 3 (ipykernel)",
   "language": "python",
   "name": "python3"
  },
  "language_info": {
   "codemirror_mode": {
    "name": "ipython",
    "version": 3
   },
   "file_extension": ".py",
   "mimetype": "text/x-python",
   "name": "python",
   "nbconvert_exporter": "python",
   "pygments_lexer": "ipython3",
   "version": "3.12.4"
  }
 },
 "nbformat": 4,
 "nbformat_minor": 5
}
