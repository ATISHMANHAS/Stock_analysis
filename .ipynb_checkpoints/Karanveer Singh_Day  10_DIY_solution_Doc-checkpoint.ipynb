{
 "cells": [
  {
   "cell_type": "code",
   "execution_count": 3,
   "id": "733c34a0-3030-4c3c-98c4-b8ef86e44b28",
   "metadata": {},
   "outputs": [],
   "source": [
    "import pandas as pd"
   ]
  },
  {
   "cell_type": "code",
   "execution_count": null,
   "id": "6fceac2e-85a7-48d9-9111-5d9db5e69e94",
   "metadata": {},
   "outputs": [],
   "source": [
    "Problem Statement : Creating pandas series\n"
   ]
  },
  {
   "cell_type": "code",
   "execution_count": 7,
   "id": "96e2e265-82ca-4ea6-87fe-00ae9e0e5819",
   "metadata": {},
   "outputs": [
    {
     "name": "stdout",
     "output_type": "stream",
     "text": [
      "the series is:\n",
      "IND          India\n",
      "AUS       Austrila\n",
      "JAP          Japan\n",
      "CH           China\n",
      "SA     SouthAfrica\n",
      "dtype: object\n",
      "the lenght pf series is: 5\n",
      "the shape of series is: (5,)\n",
      "the size of series is: 5\n"
     ]
    }
   ],
   "source": [
    "Countries= [\"India\",\"Austrila\",\"Japan\",\"China\",\"SouthAfrica\"]\n",
    "Codes= [\"IND\",\"AUS\",\"JAP\",\"CH\",\"SA\"]\n",
    "ds= pd.Series(Countries,index=Codes)\n",
    "print(\"the series is:\")\n",
    "print(ds)\n",
    "print(\"the lenght pf series is:\",len(ds))\n",
    "print(\"the shape of series is:\",ds.shape)\n",
    "print(\"the size of series is:\",ds.size)"
   ]
  },
  {
   "cell_type": "code",
   "execution_count": null,
   "id": "79f1d7cc-b641-4d9b-bd68-e23b66f771c7",
   "metadata": {},
   "outputs": [],
   "source": [
    "Problem statement : Creating Pandas DataFrame"
   ]
  },
  {
   "cell_type": "code",
   "execution_count": 13,
   "id": "a4bdb4d9-5539-4fab-88b1-1f7e90830a14",
   "metadata": {},
   "outputs": [
    {
     "name": "stdin",
     "output_type": "stream",
     "text": [
      "enter the numbers of students records we want to store 2 \n",
      "enter the name of the student Karan\n",
      "enter the age of the student 23\n",
      "enter the roll no. of the student 34\n",
      "enter the name of the student Veer\n",
      "enter the age of the student 21\n",
      "enter the roll no. of the student 16\n"
     ]
    },
    {
     "name": "stdout",
     "output_type": "stream",
     "text": [
      "The DataFrame is\n"
     ]
    },
    {
     "data": {
      "text/html": [
       "<div>\n",
       "<style scoped>\n",
       "    .dataframe tbody tr th:only-of-type {\n",
       "        vertical-align: middle;\n",
       "    }\n",
       "\n",
       "    .dataframe tbody tr th {\n",
       "        vertical-align: top;\n",
       "    }\n",
       "\n",
       "    .dataframe thead th {\n",
       "        text-align: right;\n",
       "    }\n",
       "</style>\n",
       "<table border=\"1\" class=\"dataframe\">\n",
       "  <thead>\n",
       "    <tr style=\"text-align: right;\">\n",
       "      <th></th>\n",
       "      <th>Name</th>\n",
       "      <th>Age</th>\n",
       "      <th>Roll No.</th>\n",
       "    </tr>\n",
       "  </thead>\n",
       "  <tbody>\n",
       "    <tr>\n",
       "      <th>0</th>\n",
       "      <td>Karan</td>\n",
       "      <td>23</td>\n",
       "      <td>34</td>\n",
       "    </tr>\n",
       "    <tr>\n",
       "      <th>1</th>\n",
       "      <td>Veer</td>\n",
       "      <td>21</td>\n",
       "      <td>16</td>\n",
       "    </tr>\n",
       "  </tbody>\n",
       "</table>\n",
       "</div>"
      ],
      "text/plain": [
       "    Name Age Roll No.\n",
       "0  Karan  23       34\n",
       "1   Veer  21       16"
      ]
     },
     "metadata": {},
     "output_type": "display_data"
    }
   ],
   "source": [
    "n = int(input(\"enter the numbers of students records we want to store\"))\n",
    "name=[]\n",
    "age=[]\n",
    "roll_no=[]\n",
    "for i in range(n):\n",
    "    a =input(\"enter the name of the student\")\n",
    "    b =input(\"enter the age of the student\")\n",
    "    c = input(\"enter the roll no. of the student\")\n",
    "    name.append(a)\n",
    "    age.append(b)\n",
    "    roll_no.append(c)\n",
    "\n",
    "d={\n",
    "    \"Name\":name,\n",
    "    \"Age\":age,\n",
    "    \"Roll No.\":roll_no}\n",
    "\n",
    "df=pd.DataFrame(d)\n",
    "print(\"The DataFrame is\") \n",
    "display(df)"
   ]
  },
  {
   "cell_type": "code",
   "execution_count": null,
   "id": "eec61161-9224-407f-996d-9949a406922d",
   "metadata": {},
   "outputs": [],
   "source": []
  },
  {
   "cell_type": "code",
   "execution_count": null,
   "id": "4dd781bc-66e2-4923-92e9-cab4ce22e83a",
   "metadata": {},
   "outputs": [],
   "source": []
  }
 ],
 "metadata": {
  "kernelspec": {
   "display_name": "Python 3 (ipykernel)",
   "language": "python",
   "name": "python3"
  },
  "language_info": {
   "codemirror_mode": {
    "name": "ipython",
    "version": 3
   },
   "file_extension": ".py",
   "mimetype": "text/x-python",
   "name": "python",
   "nbconvert_exporter": "python",
   "pygments_lexer": "ipython3",
   "version": "3.12.4"
  }
 },
 "nbformat": 4,
 "nbformat_minor": 5
}
