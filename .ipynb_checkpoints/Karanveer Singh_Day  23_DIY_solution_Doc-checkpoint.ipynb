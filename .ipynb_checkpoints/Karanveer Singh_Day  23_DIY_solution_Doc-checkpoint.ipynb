{
 "cells": [
  {
   "cell_type": "code",
   "execution_count": null,
   "id": "5b6ef11b-b16b-4d41-97e6-261915383c44",
   "metadata": {},
   "outputs": [],
   "source": [
    " Roll the dice twice and find the probability of getting the number 6 each time."
   ]
  },
  {
   "cell_type": "code",
   "execution_count": 2,
   "id": "a3d7fba1-0196-4c3b-a2e4-33d9d63a7a5f",
   "metadata": {},
   "outputs": [
    {
     "name": "stdout",
     "output_type": "stream",
     "text": [
      "Probability of getting number 6 on each dice is 0.028\n"
     ]
    }
   ],
   "source": [
    "total_outcome = 36\n",
    "possibal_outcome=1\n",
    "\n",
    "probability = round(possibal_outcome/total_outcome,3)\n",
    "print(\"Probability of getting number 6 on each dice is\",probability)"
   ]
  },
  {
   "cell_type": "code",
   "execution_count": 3,
   "id": "c35eb3da-f036-4470-992c-3b4c6d4624f5",
   "metadata": {},
   "outputs": [
    {
     "name": "stdout",
     "output_type": "stream",
     "text": [
      "Probability of getting a sum of both dice more than 9 is:  0.167\n"
     ]
    }
   ],
   "source": [
    "total_outcome = 36\n",
    "possibal_outcome = 6 \n",
    "\n",
    "probability = round(possibal_outcome/total_outcome,3)\n",
    "print(\"Probability of getting a sum of both dice more than 9 is: \",probability)"
   ]
  },
  {
   "cell_type": "code",
   "execution_count": 4,
   "id": "20aa5013-52f1-4b31-ba77-eaeffcd2b145",
   "metadata": {},
   "outputs": [
    {
     "name": "stdout",
     "output_type": "stream",
     "text": [
      "Probability of getting three heads in a row is: 0.125\n"
     ]
    }
   ],
   "source": [
    "total_outcome = 8\n",
    "possibal_outcome = 1 \n",
    "\n",
    "probability = round(possibal_outcome/total_outcome,3)\n",
    "print(\"Probability of getting three heads in a row is:\",probability)"
   ]
  },
  {
   "cell_type": "code",
   "execution_count": 5,
   "id": "d9f3f0b3-e299-41e0-8f1c-a93a4d21099b",
   "metadata": {},
   "outputs": [
    {
     "name": "stdout",
     "output_type": "stream",
     "text": [
      "Probability of getting Head on the coin and number 5 on the dice at the same time is: 0.083\n"
     ]
    }
   ],
   "source": [
    "total_outcome = 12\n",
    "possibal_outcome = 1 \n",
    "\n",
    "probability = round(possibal_outcome/total_outcome,3)\n",
    "print(\"Probability of getting Head on the coin and number 5 on the dice at the same time is:\",probability)"
   ]
  },
  {
   "cell_type": "code",
   "execution_count": 6,
   "id": "a39b868a-06fe-4b46-91b2-868cf859e7f1",
   "metadata": {},
   "outputs": [
    {
     "name": "stdout",
     "output_type": "stream",
     "text": [
      "Probability of getting an honor card is: 0.308\n"
     ]
    }
   ],
   "source": [
    "total_honor_cards = 16 \n",
    "total_outcome = 52 \n",
    "\n",
    "probability = round(total_honor_cards/total_outcome,3)\n",
    "print(\"Probability of getting an honor card is:\",probability)"
   ]
  },
  {
   "cell_type": "code",
   "execution_count": 7,
   "id": "c6009766-1470-4a2a-b1fd-173d165b1a10",
   "metadata": {},
   "outputs": [
    {
     "name": "stdout",
     "output_type": "stream",
     "text": [
      "Probability of getting an honor card is: 0.058\n"
     ]
    }
   ],
   "source": [
    "total_face_cards_diamond = 3 \n",
    "total_outcome = 52 \n",
    "\n",
    "probability = round(total_face_cards_diamond/total_outcome,3)\n",
    "print(\"Probability of getting an honor card is:\",probability)"
   ]
  },
  {
   "cell_type": "code",
   "execution_count": null,
   "id": "13f0f32e-c704-49eb-b468-9c2a39a3e595",
   "metadata": {},
   "outputs": [],
   "source": [
    "Roll two dice at a time and find the probability of getting a sum of both dice greater than 9."
   ]
  },
  {
   "cell_type": "code",
   "execution_count": 8,
   "id": "d4de4613-70ad-4969-a14a-18897c96f4fd",
   "metadata": {},
   "outputs": [
    {
     "name": "stdout",
     "output_type": "stream",
     "text": [
      "Probability of student loving science is  0.4\n"
     ]
    }
   ],
   "source": [
    "total_boys_love_science = 17\n",
    "total_girls_love_science = 23\n",
    "total_students_loves_science = total_girls_love_science + total_boys_love_science \n",
    "total_student =100\n",
    "\n",
    "student_lov_science = round(total_students_loves_science/total_student,2)\n",
    "print(\"Probability of student loving science is \",student_lov_science)"
   ]
  },
  {
   "cell_type": "code",
   "execution_count": 9,
   "id": "8eb1823e-c435-42e0-800e-460aa16cfa6e",
   "metadata": {},
   "outputs": [
    {
     "name": "stdout",
     "output_type": "stream",
     "text": [
      "Probability of girl loves maths or science subject is  0.27\n"
     ]
    }
   ],
   "source": [
    "total_girls_love_maths = 15\n",
    "total_girls_love_english = 12\n",
    "total_student = 100\n",
    "\n",
    "\n",
    "prob_girl_loves_maths = round(total_girls_love_maths/total_student,2) \n",
    "\n",
    "\n",
    "prob_girl_loves_science = round(total_girls_love_english/total_student,2)\n",
    "\n",
    "\n",
    "prob_girl_loves_science_or_maths = prob_girl_loves_science + prob_girl_loves_maths\n",
    "print(\"Probability of girl loves maths or science subject is \",prob_girl_loves_science_or_maths)"
   ]
  },
  {
   "cell_type": "code",
   "execution_count": 10,
   "id": "b18f556b-52f1-4b52-8c87-154156d720ab",
   "metadata": {},
   "outputs": [
    {
     "name": "stdout",
     "output_type": "stream",
     "text": [
      "Probability of girl loves english or boys love maths subject is  0.35\n"
     ]
    }
   ],
   "source": [
    "total_girls_love_english = 12\n",
    "total_boys_love_maths = 23\n",
    "total_student = 100\n",
    "\n",
    "\n",
    "total_girls_love_english = 12\n",
    "prob_girl_love_english = round(total_girls_love_english/total_student,2)\n",
    "\n",
    " \n",
    "total_boys_love_maths = 23\n",
    "prob_boys_love_maths = round(total_boys_love_maths/total_student,2)\n",
    "\n",
    "prob_girls_love_english_and_boys_loves_maths = prob_boys_love_maths + prob_girl_love_english\n",
    "print(\"Probability of girl loves english or boys love maths subject is \",prob_girls_love_english_and_boys_loves_maths)"
   ]
  },
  {
   "cell_type": "code",
   "execution_count": null,
   "id": "4f8b98c3-d7da-4778-804b-a35d6a0826bb",
   "metadata": {},
   "outputs": [],
   "source": []
  }
 ],
 "metadata": {
  "kernelspec": {
   "display_name": "Python 3 (ipykernel)",
   "language": "python",
   "name": "python3"
  },
  "language_info": {
   "codemirror_mode": {
    "name": "ipython",
    "version": 3
   },
   "file_extension": ".py",
   "mimetype": "text/x-python",
   "name": "python",
   "nbconvert_exporter": "python",
   "pygments_lexer": "ipython3",
   "version": "3.12.4"
  }
 },
 "nbformat": 4,
 "nbformat_minor": 5
}
