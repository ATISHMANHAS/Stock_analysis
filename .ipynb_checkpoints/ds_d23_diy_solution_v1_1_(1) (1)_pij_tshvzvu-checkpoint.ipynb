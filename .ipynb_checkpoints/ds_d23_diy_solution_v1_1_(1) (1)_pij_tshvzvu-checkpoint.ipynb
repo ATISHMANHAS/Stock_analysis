{
  "cells": [
    {
      "cell_type": "markdown",
      "metadata": {
        "id": "TMYfKxgO6Fsv"
      },
      "source": [
        "## Day 23 - DIY Solution"
      ]
    },
    {
      "cell_type": "markdown",
      "metadata": {
        "id": "XaBo8FF46Fsy"
      },
      "source": [
        "**Q1. Problem Statement: Probability of an Event**\n",
        "\n",
        "Consider that you have a coin and dice. Each time you roll them, you get a result, so try to solve the given questions based on coins and dice.\n",
        "1.\tRoll the dice twice and find the probability of getting the number 6 each time.\n",
        "2.\tRoll two dice at a time and find the probability of getting a sum of both dice greater than 9.\n",
        "3.\tFlip a coin three times continuously and find the probability of getting three heads in a row.\n",
        "4.\tFlip a coin and dice simultaneously and find the probability of getting head on the coin and number 5 on the dice simultaneously.\n",
        "5.\tCard is drawn at random from the pack of 52 cards:<br>\n",
        "  I.\tFind the probability that it is an honor card.<br>\n",
        "  II.\tIt is a face card of a diamond house.\n",
        "\n"
      ]
    },
    {
      "cell_type": "markdown",
      "metadata": {
        "id": "efLGye176Fsz"
      },
      "source": [
        "**Solution**\n",
        "\n"
      ]
    },
    {
      "cell_type": "markdown",
      "metadata": {
        "id": "mb5Bz69x6Fs0"
      },
      "source": [
        "**1. Roll the dice twice and find the probability of getting the number 6 each time.** <br>\n",
        "Note: When we roll a dice 2 times each time a number will generate and two times roll then it will generate two numbers. So when we roll two dice, its possibal combination are 36. That is,<br>\n",
        "(1,1),(1,2)(1,3).........(6,4)(6,5)(6,6), total count is 36. \n"
      ]
    },
    {
      "cell_type": "code",
      "execution_count": null,
      "metadata": {
        "id": "_B-L9tCM6Fs1",
        "outputId": "1f2b3543-319b-4f6f-9083-3149409fb81a"
      },
      "outputs": [
        {
          "name": "stdout",
          "output_type": "stream",
          "text": [
            "Probability of getting number 6 on each dice is 0.028\n"
          ]
        }
      ],
      "source": [
        "total_outcome = 36\n",
        "possibal_outcome = 1 # there is only one combination which will give asked combination is (6,6)\n",
        "\n",
        "probability = round(possibal_outcome/total_outcome,3)\n",
        "print(\"Probability of getting number 6 on each dice is\",probability)"
      ]
    },
    {
      "cell_type": "markdown",
      "metadata": {
        "id": "gU85ucAF6Fs3"
      },
      "source": [
        "**2. Roll two dice at a time and find the probability of getting a sum of both dice greater than 9.**<br>\n",
        "The sum of numbers on the dice must be greater than 9, it means if we roll two dice then  we only cosider those outcome which has more sum than 9. If we roll a dice together then it will generate 36 outcomes.<br>\n",
        "(1,1),(1,2)(1,3).........(6,4)(6,5)(6,6)"
      ]
    },
    {
      "cell_type": "code",
      "execution_count": null,
      "metadata": {
        "id": "GqUO3g1_6Fs3",
        "outputId": "8fcbd223-988e-4ff4-f02d-7c64edb940c2"
      },
      "outputs": [
        {
          "name": "stdout",
          "output_type": "stream",
          "text": [
            "Probability of getting a sum of both dice more than 9 is:  0.167\n"
          ]
        }
      ],
      "source": [
        "total_outcome = 36\n",
        "possibal_outcome = 6 # (4,6)(5,5)(5,6)(6,4)(6,5)(6,6)\n",
        "\n",
        "probability = round(possibal_outcome/total_outcome,3)\n",
        "print(\"Probability of getting a sum of both dice more than 9 is: \",probability)"
      ]
    },
    {
      "cell_type": "markdown",
      "metadata": {
        "id": "d7mfKTng6Fs4"
      },
      "source": [
        "**3. Flip a coin three times continuously and find the probability of getting three heads in a row.**<br>\n",
        "Coin has only two possible outcomes are head(H) and tails(T), but when we flip it in a continuous manner, its combination will generate like,<br>\n",
        "(HHH),(HHT),(HTH),(THH),(TTH),(THT),(HTT),(TTT)"
      ]
    },
    {
      "cell_type": "code",
      "execution_count": null,
      "metadata": {
        "id": "8RVIVQ816Fs4",
        "outputId": "11527b8e-0189-4029-9b01-e9ee034d2769"
      },
      "outputs": [
        {
          "name": "stdout",
          "output_type": "stream",
          "text": [
            "Probability of getting three heads in a row is: 0.125\n"
          ]
        }
      ],
      "source": [
        "total_outcome = 8\n",
        "possibal_outcome = 1 #(HHH)\n",
        "\n",
        "probability = round(possibal_outcome/total_outcome,3)\n",
        "print(\"Probability of getting three heads in a row is:\",probability)"
      ]
    },
    {
      "cell_type": "markdown",
      "metadata": {
        "id": "x1J7AaLX6Fs5"
      },
      "source": [
        "**4. Flip a coin and dice at the same time and find the probability of getting head on the coin and number 5 on the dice at the same time.**<br>\n",
        "When we flip a coin, two possible outcomes will be generated, and when we roll a dice, six outcomes will be generated. Now, if we do both things at the same time, a total of 12 outcomes will be generated, like , 2 outcomes of coin * 6 outcomes of dice = 12 outcomes.<br>\n",
        "(H,1)(H,2)(H,3)(H,4)(H,5)(H,6),(T,1),(T,2),(T,3),(T,4),(T,5),(T,6)"
      ]
    },
    {
      "cell_type": "code",
      "execution_count": null,
      "metadata": {
        "id": "A8eawiX96Fs5",
        "outputId": "954b0d0b-6038-456e-bf51-7983719fa3c2"
      },
      "outputs": [
        {
          "name": "stdout",
          "output_type": "stream",
          "text": [
            "Probability of getting Head on the coin and number 5 on the dice at the same time is: 0.083\n"
          ]
        }
      ],
      "source": [
        "total_outcome = 12\n",
        "possibal_outcome = 1 #(HHH)\n",
        "\n",
        "probability = round(possibal_outcome/total_outcome,3)\n",
        "print(\"Probability of getting Head on the coin and number 5 on the dice at the same time is:\",probability)"
      ]
    },
    {
      "cell_type": "markdown",
      "metadata": {
        "id": "pNf5NVIa6Fs6"
      },
      "source": [
        "**5. Card is drawn at random from the pack of 52 cards:**<br>\n",
        "I. Find the probability that it is an honor card. <br>\n",
        "II. It is a face card of diamond house.<br>\n",
        "The card deck has a total of 52 cards with 4 houses. Each house has 4 honor cards, and out of those, 3 are face cards.<br>\n"
      ]
    },
    {
      "cell_type": "code",
      "execution_count": null,
      "metadata": {
        "id": "s-UJnBjG6Fs6",
        "outputId": "74b898c9-b888-4d1a-9a87-a54de731be70"
      },
      "outputs": [
        {
          "name": "stdout",
          "output_type": "stream",
          "text": [
            "Probability of getting an honor card is: 0.308\n"
          ]
        }
      ],
      "source": [
        "#I. Find the Probability that it is an honor card\n",
        "total_honor_cards = 16 # each house has 4 and total 4 house are there 4*4 = 16\n",
        "total_outcome = 52 #Total 52 cards are there\n",
        "\n",
        "probability = round(total_honor_cards/total_outcome,3)\n",
        "print(\"Probability of getting an honor card is:\",probability)"
      ]
    },
    {
      "cell_type": "code",
      "execution_count": null,
      "metadata": {
        "id": "a2xk8hlb6Fs7",
        "outputId": "a03e7eda-700e-4302-9607-e283addb03d5"
      },
      "outputs": [
        {
          "name": "stdout",
          "output_type": "stream",
          "text": [
            "Probability of getting an honor card is: 0.058\n"
          ]
        }
      ],
      "source": [
        "#II. It is a face card of diamond.\n",
        "# total 3 face cards are there in diamond house\n",
        "#I. Find the Probability that it is an honor card\n",
        "total_face_cards_diamond = 3 # each house has 4 and total 4 house are there 4*4 = 16\n",
        "total_outcome = 52 #Total 52 cards are there\n",
        "\n",
        "probability = round(total_face_cards_diamond/total_outcome,3)\n",
        "print(\"Probability of getting an honor card is:\",probability)"
      ]
    },
    {
      "cell_type": "markdown",
      "metadata": {
        "id": "qgK77thC6Fs7"
      },
      "source": [
        "**Q2. Problem Statement: Union and intersection of events**<br>\n",
        "In a class of 100 students, a survey was conducted for their favorite subject, wherIn a class of 100 students, a survey was conducted for their favorite subject, where they could choose only one subject as their favorite. 23 boys and 15 girls like Maths, 17 boys and 23 girls like Science, and 10 boys and 12 girls like English. If we choose a random student out of them, find out the probability, where,\n",
        "  1.\tStudents love Science subject.\n",
        "  2.\tGirls love Maths subject or English subject.\n",
        "  3.\tIf she is a girl, she loves English, or if he is a boy, then he loves Maths.\n",
        "\n"
      ]
    },
    {
      "cell_type": "markdown",
      "metadata": {
        "id": "l4mXsjW06Fs8"
      },
      "source": [
        "**Solution**\n",
        "\n"
      ]
    },
    {
      "cell_type": "markdown",
      "metadata": {
        "id": "KVbjQIZ36Fs9"
      },
      "source": [
        "**1. Students love Science subject.**"
      ]
    },
    {
      "cell_type": "code",
      "execution_count": null,
      "metadata": {
        "id": "ZVdm3KUe6Fs9",
        "outputId": "ef1251d8-5f6b-4553-9210-0245b35df9ad"
      },
      "outputs": [
        {
          "name": "stdout",
          "output_type": "stream",
          "text": [
            "Probability of student loving science is  0.4\n"
          ]
        }
      ],
      "source": [
        "total_boys_love_science = 17\n",
        "total_girls_love_science = 23\n",
        "total_students_loves_science = total_girls_love_science + total_boys_love_science \n",
        "total_student =100\n",
        "\n",
        "student_lov_science = round(total_students_loves_science/total_student,2)\n",
        "print(\"Probability of student loving science is \",student_lov_science)"
      ]
    },
    {
      "cell_type": "markdown",
      "metadata": {
        "id": "0GsRjleC6Fs9"
      },
      "source": [
        "**2. Girls love Maths subject or English subject.**"
      ]
    },
    {
      "cell_type": "code",
      "execution_count": null,
      "metadata": {
        "id": "kumwcx7x6Fs-",
        "outputId": "a6e8e4b5-7b51-4d45-b101-1b2b69e7518f"
      },
      "outputs": [
        {
          "name": "stdout",
          "output_type": "stream",
          "text": [
            "Probability of girl loves maths or science subject is  0.27\n"
          ]
        }
      ],
      "source": [
        "total_girls_love_maths = 15\n",
        "total_girls_love_english = 12\n",
        "total_student = 100\n",
        "\n",
        "# probability of girl loves maths\n",
        "prob_girl_loves_maths = round(total_girls_love_maths/total_student,2) \n",
        "\n",
        "# probability of girl loves science\n",
        "prob_girl_loves_science = round(total_girls_love_english/total_student,2)\n",
        "\n",
        "# total probability of girls love science or maths\n",
        "#formula p(a OR b) = p(a) + p(b) # independent event\n",
        "prob_girl_loves_science_or_maths = prob_girl_loves_science + prob_girl_loves_maths\n",
        "print(\"Probability of girl loves maths or science subject is \",prob_girl_loves_science_or_maths)"
      ]
    },
    {
      "cell_type": "markdown",
      "metadata": {
        "id": "-Wgmivl86Fs-"
      },
      "source": [
        "**3.If she is a girl, she loves English, or if he is a boy, then he loves Maths.**"
      ]
    },
    {
      "cell_type": "code",
      "execution_count": null,
      "metadata": {
        "id": "tUZ6vrdE6Fs-",
        "outputId": "e9bd2ef4-3fb0-4f2a-d675-0118ed883742"
      },
      "outputs": [
        {
          "name": "stdout",
          "output_type": "stream",
          "text": [
            "Probability of girl loves english or boys love maths subject is  0.35\n"
          ]
        }
      ],
      "source": [
        "total_girls_love_english = 12\n",
        "total_boys_love_maths = 23\n",
        "total_student = 100\n",
        "\n",
        "#probaility of girls loves english \n",
        "total_girls_love_english = 12\n",
        "prob_girl_love_english = round(total_girls_love_english/total_student,2)\n",
        "\n",
        "#probaility of girls loves english \n",
        "total_boys_love_maths = 23\n",
        "prob_boys_love_maths = round(total_boys_love_maths/total_student,2)\n",
        "\n",
        "# as per independent event formula,\n",
        "prob_girls_love_english_and_boys_loves_maths = prob_boys_love_maths + prob_girl_love_english\n",
        "print(\"Probability of girl loves english or boys love maths subject is \",prob_girls_love_english_and_boys_loves_maths)"
      ]
    },
    {
      "cell_type": "code",
      "execution_count": null,
      "metadata": {
        "id": "tcJOkZwH6Fs_"
      },
      "outputs": [],
      "source": []
    },
    {
      "cell_type": "code",
      "execution_count": null,
      "metadata": {
        "id": "RloMqLAj6Fs_"
      },
      "outputs": [],
      "source": []
    },
    {
      "cell_type": "code",
      "execution_count": null,
      "metadata": {
        "id": "corGZ0zK6Fs_"
      },
      "outputs": [],
      "source": []
    },
    {
      "cell_type": "code",
      "execution_count": null,
      "metadata": {
        "id": "f7QGnFCw6FtA"
      },
      "outputs": [],
      "source": []
    },
    {
      "cell_type": "code",
      "execution_count": null,
      "metadata": {
        "id": "tuvAv0Jn6FtA"
      },
      "outputs": [],
      "source": []
    }
  ],
  "metadata": {
    "kernelspec": {
      "display_name": "Python 3",
      "language": "python",
      "name": "python3"
    },
    "language_info": {
      "codemirror_mode": {
        "name": "ipython",
        "version": 3
      },
      "file_extension": ".py",
      "mimetype": "text/x-python",
      "name": "python",
      "nbconvert_exporter": "python",
      "pygments_lexer": "ipython3",
      "version": "3.8.5"
    },
    "colab": {
      "provenance": [],
      "collapsed_sections": []
    }
  },
  "nbformat": 4,
  "nbformat_minor": 0
}