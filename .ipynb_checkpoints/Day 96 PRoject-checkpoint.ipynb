{
 "cells": [
  {
   "cell_type": "code",
   "execution_count": 1,
   "id": "58fd9c9c-7df9-4b1d-9cf2-0d5618460753",
   "metadata": {},
   "outputs": [
    {
     "name": "stdout",
     "output_type": "stream",
     "text": [
      "Movies Dataset:\n",
      "   movieId                               title  \\\n",
      "0        1                    Toy Story (1995)   \n",
      "1        2                      Jumanji (1995)   \n",
      "2        3             Grumpier Old Men (1995)   \n",
      "3        4            Waiting to Exhale (1995)   \n",
      "4        5  Father of the Bride Part II (1995)   \n",
      "\n",
      "                                        genres  \n",
      "0  Adventure|Animation|Children|Comedy|Fantasy  \n",
      "1                   Adventure|Children|Fantasy  \n",
      "2                               Comedy|Romance  \n",
      "3                         Comedy|Drama|Romance  \n",
      "4                                       Comedy  \n",
      "\n",
      "Ratings Dataset:\n",
      "   userId  movieId  rating   timestamp\n",
      "0       1       16     4.0  1217897793\n",
      "1       1       24     1.5  1217895807\n",
      "2       1       32     4.0  1217896246\n",
      "3       1       47     4.0  1217896556\n",
      "4       1       50     4.0  1217896523\n",
      "\n",
      "Movies Dataset Info:\n",
      "<class 'pandas.core.frame.DataFrame'>\n",
      "RangeIndex: 10329 entries, 0 to 10328\n",
      "Data columns (total 3 columns):\n",
      " #   Column   Non-Null Count  Dtype \n",
      "---  ------   --------------  ----- \n",
      " 0   movieId  10329 non-null  int64 \n",
      " 1   title    10329 non-null  object\n",
      " 2   genres   10329 non-null  object\n",
      "dtypes: int64(1), object(2)\n",
      "memory usage: 242.2+ KB\n",
      "None\n",
      "\n",
      "Ratings Dataset Info:\n",
      "<class 'pandas.core.frame.DataFrame'>\n",
      "RangeIndex: 105339 entries, 0 to 105338\n",
      "Data columns (total 4 columns):\n",
      " #   Column     Non-Null Count   Dtype  \n",
      "---  ------     --------------   -----  \n",
      " 0   userId     105339 non-null  int64  \n",
      " 1   movieId    105339 non-null  int64  \n",
      " 2   rating     105339 non-null  float64\n",
      " 3   timestamp  105339 non-null  int64  \n",
      "dtypes: float64(1), int64(3)\n",
      "memory usage: 3.2 MB\n",
      "None\n"
     ]
    },
    {
     "data": {
      "image/png": "[encoded data removed]",
      "text/plain": [
       "<Figure size 640x480 with 1 Axes>"
      ]
     },
     "metadata": {},
     "output_type": "display_data"
    },
    {
     "name": "stdout",
     "output_type": "stream",
     "text": [
      "Unique genres: {'Horror', 'Action', 'War', 'Film-Noir', 'Fantasy', '(no genres listed)', 'Drama', 'Comedy', 'Musical', 'Crime', 'Mystery', 'Sci-Fi', 'Adventure', 'Western', 'Animation', 'Thriller', 'IMAX', 'Children', 'Documentary', 'Romance'}\n",
      "\n",
      "Genre Stats:\n",
      "{'Horror': {'avg_rating': 3.281097331830139, 'total_movies': 1001}, 'Action': {'avg_rating': 3.4514500881269026, 'total_movies': 1737}, 'War': {'avg_rating': 3.7832017844886754, 'total_movies': 503}, 'Film-Noir': {'avg_rating': 3.9136363636363636, 'total_movies': 195}, 'Fantasy': {'avg_rating': 3.5004591789879695, 'total_movies': 670}, '(no genres listed)': {'avg_rating': 3.0714285714285716, 'total_movies': 7}, 'Drama': {'avg_rating': 3.6502661839863713, 'total_movies': 5220}, 'Comedy': {'avg_rating': 3.4209959269478385, 'total_movies': 3515}, 'Musical': {'avg_rating': 3.57196174480989, 'total_movies': 409}, 'Crime': {'avg_rating': 3.6423924334372098, 'total_movies': 1440}, 'Mystery': {'avg_rating': 3.652043269230769, 'total_movies': 675}, 'Sci-Fi': {'avg_rating': 3.4544805001488537, 'total_movies': 860}, 'Adventure': {'avg_rating': 3.518027387762177, 'total_movies': 1164}, 'Western': {'avg_rating': 3.565687121866897, 'total_movies': 235}, 'Animation': {'avg_rating': 3.6353503184713376, 'total_movies': 401}, 'Thriller': {'avg_rating': 3.4955613220431574, 'total_movies': 2187}, 'IMAX': {'avg_rating': 3.641820580474934, 'total_movies': 152}, 'Children': {'avg_rating': 3.4394294887626575, 'total_movies': 540}, 'Documentary': {'avg_rating': 3.6430348258706466, 'total_movies': 415}, 'Romance': {'avg_rating': 3.544254739708809, 'total_movies': 1788}}\n"
     ]
    },
    {
     "name": "stderr",
     "output_type": "stream",
     "text": [
      "C:\\Users\\palvi\\AppData\\Local\\Temp\\ipykernel_26588\\3490341479.py:42: UserWarning: This pattern is interpreted as a regular expression, and has match groups. To actually get the groups, use str.extract.\n",
      "  genre_movies = movies[movies['genres'].str.contains(genre, case=False)]\n"
     ]
    },
    {
     "data": {
      "application/vnd.jupyter.widget-view+json": {
       "model_id": "1157e8a4f4f745a0944a16c8f537e6a4",
       "version_major": 2,
       "version_minor": 0
      },
      "text/plain": [
       "interactive(children=(Text(value='Comedy', description='genre'), IntSlider(value=100, description='min_reviews…"
      ]
     },
     "metadata": {},
     "output_type": "display_data"
    },
    {
     "data": {
      "application/vnd.jupyter.widget-view+json": {
       "model_id": "94bd5dbe402e47b2ae68d3ae2e634e4a",
       "version_major": 2,
       "version_minor": 0
      },
      "text/plain": [
       "interactive(children=(Text(value='Toy Story', description='movie_title'), IntSlider(value=5, description='num_…"
      ]
     },
     "metadata": {},
     "output_type": "display_data"
    },
    {
     "data": {
      "application/vnd.jupyter.widget-view+json": {
       "model_id": "1c29fd9803d549c2940e82feb2957307",
       "version_major": 2,
       "version_minor": 0
      },
      "text/plain": [
       "interactive(children=(IntSlider(value=1, description='user_id', max=3, min=-1), IntSlider(value=5, description…"
      ]
     },
     "metadata": {},
     "output_type": "display_data"
    },
    {
     "name": "stdout",
     "output_type": "stream",
     "text": [
      "\n",
      "Popularity-Based Recommendations:\n",
      "                                      title  avg_rating  num_reviews\n",
      "326  Monty Python and the Holy Grail (1975)    4.301948          154\n",
      "193                            Fargo (1996)    4.271144          201\n",
      "337              Princess Bride, The (1987)    4.163743          171\n",
      "90                      Pulp Fiction (1994)    4.160000          325\n",
      "110                     Forrest Gump (1994)    4.138264          311\n",
      "\n",
      "Content-Based Recommendations:\n",
      "Movie 'Toy Story' not found in the dataset.\n",
      "\n",
      "Collaborative Filtering Recommendations:\n",
      "0                                  Pulp Fiction (1994)\n",
      "1                     Shawshank Redemption, The (1994)\n",
      "2                                  Forrest Gump (1994)\n",
      "3    Star Wars: Episode V - The Empire Strikes Back...\n",
      "4                                   Matrix, The (1999)\n",
      "Name: title, dtype: object\n"
     ]
    }
   ],
   "source": [
    "# Import necessary libraries\n",
    "import pandas as pd\n",
    "import numpy as np\n",
    "from sklearn.metrics.pairwise import cosine_similarity\n",
    "from scipy.sparse import csr_matrix\n",
    "from ipywidgets import interact\n",
    "import matplotlib.pyplot as plt\n",
    "import seaborn as sns\n",
    "\n",
    "# Load the datasets\n",
    "movies = pd.read_csv(\"movies.csv\")\n",
    "ratings = pd.read_csv(\"ratings.csv\")\n",
    "\n",
    "# Inspect the datasets\n",
    "print(\"Movies Dataset:\")\n",
    "print(movies.head())\n",
    "print(\"\\nRatings Dataset:\")\n",
    "print(ratings.head())\n",
    "\n",
    "# Check for missing values\n",
    "print(\"\\nMovies Dataset Info:\")\n",
    "print(movies.info())\n",
    "print(\"\\nRatings Dataset Info:\")\n",
    "print(ratings.info())\n",
    "\n",
    "# Exploratory Data Analysis\n",
    "# Distribution of ratings\n",
    "sns.histplot(ratings['rating'], kde=False, bins=10, color='blue')\n",
    "plt.title('Distribution of Ratings')\n",
    "plt.xlabel('Rating')\n",
    "plt.ylabel('Frequency')\n",
    "plt.show()\n",
    "\n",
    "# Extract unique genres\n",
    "movies['genres'] = movies['genres'].fillna('')  # Handle NaN genres\n",
    "all_genres = set([genre for sublist in movies['genres'].str.split('|') for genre in sublist])\n",
    "print(f\"Unique genres: {all_genres}\")\n",
    "\n",
    "# Average rating and total movies at genre level\n",
    "genre_stats = {}\n",
    "for genre in all_genres:\n",
    "    genre_movies = movies[movies['genres'].str.contains(genre, case=False)]\n",
    "    genre_ids = genre_movies['movieId']\n",
    "    genre_ratings = ratings[ratings['movieId'].isin(genre_ids)]\n",
    "    avg_rating = genre_ratings['rating'].mean()\n",
    "    total_movies = len(genre_movies)\n",
    "    genre_stats[genre] = {'avg_rating': avg_rating, 'total_movies': total_movies}\n",
    "print(\"\\nGenre Stats:\")\n",
    "print(genre_stats)\n",
    "\n",
    "# Popularity-Based Recommender System\n",
    "def popularity_based_recommender(genre, min_reviews, num_recommendations):\n",
    "    genre_movies = movies[movies['genres'].str.contains(genre, na=False, case=False)]\n",
    "    merged = genre_movies.merge(ratings, on=\"movieId\")\n",
    "    genre_stats = merged.groupby(['movieId', 'title']).agg(\n",
    "        avg_rating=('rating', 'mean'),\n",
    "        num_reviews=('rating', 'count')\n",
    "    ).reset_index()\n",
    "    filtered = genre_stats[genre_stats['num_reviews'] >= min_reviews]\n",
    "    top_movies = filtered.sort_values('avg_rating', ascending=False).head(num_recommendations)\n",
    "    return top_movies[['title', 'avg_rating', 'num_reviews']]\n",
    "\n",
    "# Content-Based Recommender System\n",
    "def content_based_recommender(movie_title, num_recommendations):\n",
    "    try:\n",
    "        movie_genres = movies[movies['title'] == movie_title]['genres'].iloc[0]\n",
    "    except IndexError:\n",
    "        return f\"Movie '{movie_title}' not found in the dataset.\"\n",
    "    \n",
    "    movies['similarity'] = movies['genres'].apply(\n",
    "        lambda x: len(set(x.split('|')).intersection(set(movie_genres.split('|'))))\n",
    "    )\n",
    "    top_movies = movies.sort_values('similarity', ascending=False).head(num_recommendations)\n",
    "    return top_movies[['title', 'genres', 'similarity']]\n",
    "\n",
    "# Collaborative Filtering\n",
    "def collaborative_recommender(user_id, num_recommendations, k):\n",
    "    user_movie_matrix = ratings.pivot(index='userId', columns='movieId', values='rating').fillna(0)\n",
    "    user_similarity = cosine_similarity(csr_matrix(user_movie_matrix))\n",
    "    \n",
    "    # Find top k similar users\n",
    "    similar_users = pd.Series(user_similarity[user_id - 1]).sort_values(ascending=False).iloc[1:k+1]\n",
    "    similar_users_indices = similar_users.index\n",
    "    similar_users_ratings = user_movie_matrix.iloc[similar_users_indices]\n",
    "    \n",
    "    # Aggregate ratings from similar users\n",
    "    avg_ratings = similar_users_ratings.mean(axis=0)\n",
    "    top_movies = avg_ratings.sort_values(ascending=False).head(num_recommendations)\n",
    "    top_movie_titles = movies[movies['movieId'].isin(top_movies.index)]['title']\n",
    "    return top_movie_titles.reset_index(drop=True)\n",
    "\n",
    "# GUI Integration using ipywidgets\n",
    "interact(popularity_based_recommender, genre=\"Comedy\", min_reviews=100, num_recommendations=5)\n",
    "interact(content_based_recommender, movie_title=\"Toy Story\", num_recommendations=5)\n",
    "interact(collaborative_recommender, user_id=1, num_recommendations=5, k=100)\n",
    "\n",
    "# Example Usage\n",
    "print(\"\\nPopularity-Based Recommendations:\")\n",
    "print(popularity_based_recommender(genre=\"Comedy\", min_reviews=100, num_recommendations=5))\n",
    "\n",
    "print(\"\\nContent-Based Recommendations:\")\n",
    "print(content_based_recommender(movie_title=\"Toy Story\", num_recommendations=5))\n",
    "\n",
    "print(\"\\nCollaborative Filtering Recommendations:\")\n",
    "print(collaborative_recommender(user_id=1, num_recommendations=5, k=100))\n"
   ]
  },
  {
   "cell_type": "code",
   "execution_count": null,
   "id": "7a6b39bc-d647-4f2c-b803-0b006e97fadf",
   "metadata": {},
   "outputs": [],
   "source": []
  }
 ],
 "metadata": {
  "kernelspec": {
   "display_name": "Python 3 (ipykernel)",
   "language": "python",
   "name": "python3"
  },
  "language_info": {
   "codemirror_mode": {
    "name": "ipython",
    "version": 3
   },
   "file_extension": ".py",
   "mimetype": "text/x-python",
   "name": "python",
   "nbconvert_exporter": "python",
   "pygments_lexer": "ipython3",
   "version": "3.12.4"
  }
 },
 "nbformat": 4,
 "nbformat_minor": 5
}
