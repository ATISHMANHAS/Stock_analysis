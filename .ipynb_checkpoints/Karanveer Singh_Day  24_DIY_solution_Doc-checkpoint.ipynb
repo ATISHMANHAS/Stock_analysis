{
 "cells": [
  {
   "cell_type": "code",
   "execution_count": null,
   "id": "6a8de25f-af23-48fd-a880-d6924949f52c",
   "metadata": {},
   "outputs": [],
   "source": [
    "Problem Statement: Conditional Probability"
   ]
  },
  {
   "cell_type": "code",
   "execution_count": 2,
   "id": "31cff14d-5973-4fbf-9b7e-1edcaa9f7fad",
   "metadata": {},
   "outputs": [
    {
     "data": {
      "text/html": [
       "<div>\n",
       "<style scoped>\n",
       "    .dataframe tbody tr th:only-of-type {\n",
       "        vertical-align: middle;\n",
       "    }\n",
       "\n",
       "    .dataframe tbody tr th {\n",
       "        vertical-align: top;\n",
       "    }\n",
       "\n",
       "    .dataframe thead th {\n",
       "        text-align: right;\n",
       "    }\n",
       "</style>\n",
       "<table border=\"1\" class=\"dataframe\">\n",
       "  <thead>\n",
       "    <tr style=\"text-align: right;\">\n",
       "      <th></th>\n",
       "      <th>SUBDIVISION</th>\n",
       "      <th>YEAR</th>\n",
       "      <th>JAN</th>\n",
       "      <th>FEB</th>\n",
       "      <th>MAR</th>\n",
       "      <th>APR</th>\n",
       "      <th>MAY</th>\n",
       "      <th>JUN</th>\n",
       "      <th>JUL</th>\n",
       "      <th>AUG</th>\n",
       "      <th>SEP</th>\n",
       "      <th>OCT</th>\n",
       "      <th>NOV</th>\n",
       "      <th>DEC</th>\n",
       "      <th>ANNUAL RAINFALL</th>\n",
       "      <th>FLOODS</th>\n",
       "    </tr>\n",
       "  </thead>\n",
       "  <tbody>\n",
       "    <tr>\n",
       "      <th>0</th>\n",
       "      <td>KERALA</td>\n",
       "      <td>1901</td>\n",
       "      <td>28.7</td>\n",
       "      <td>44.7</td>\n",
       "      <td>51.6</td>\n",
       "      <td>160.0</td>\n",
       "      <td>174.7</td>\n",
       "      <td>824.6</td>\n",
       "      <td>743.0</td>\n",
       "      <td>357.5</td>\n",
       "      <td>197.7</td>\n",
       "      <td>266.9</td>\n",
       "      <td>350.8</td>\n",
       "      <td>48.4</td>\n",
       "      <td>3248.6</td>\n",
       "      <td>YES</td>\n",
       "    </tr>\n",
       "    <tr>\n",
       "      <th>1</th>\n",
       "      <td>KERALA</td>\n",
       "      <td>1902</td>\n",
       "      <td>6.7</td>\n",
       "      <td>2.6</td>\n",
       "      <td>57.3</td>\n",
       "      <td>83.9</td>\n",
       "      <td>134.5</td>\n",
       "      <td>390.9</td>\n",
       "      <td>1205.0</td>\n",
       "      <td>315.8</td>\n",
       "      <td>491.6</td>\n",
       "      <td>358.4</td>\n",
       "      <td>158.3</td>\n",
       "      <td>121.5</td>\n",
       "      <td>3326.6</td>\n",
       "      <td>YES</td>\n",
       "    </tr>\n",
       "    <tr>\n",
       "      <th>2</th>\n",
       "      <td>KERALA</td>\n",
       "      <td>1903</td>\n",
       "      <td>3.2</td>\n",
       "      <td>18.6</td>\n",
       "      <td>3.1</td>\n",
       "      <td>83.6</td>\n",
       "      <td>249.7</td>\n",
       "      <td>558.6</td>\n",
       "      <td>1022.5</td>\n",
       "      <td>420.2</td>\n",
       "      <td>341.8</td>\n",
       "      <td>354.1</td>\n",
       "      <td>157.0</td>\n",
       "      <td>59.0</td>\n",
       "      <td>3271.2</td>\n",
       "      <td>YES</td>\n",
       "    </tr>\n",
       "    <tr>\n",
       "      <th>3</th>\n",
       "      <td>KERALA</td>\n",
       "      <td>1904</td>\n",
       "      <td>23.7</td>\n",
       "      <td>3.0</td>\n",
       "      <td>32.2</td>\n",
       "      <td>71.5</td>\n",
       "      <td>235.7</td>\n",
       "      <td>1098.2</td>\n",
       "      <td>725.5</td>\n",
       "      <td>351.8</td>\n",
       "      <td>222.7</td>\n",
       "      <td>328.1</td>\n",
       "      <td>33.9</td>\n",
       "      <td>3.3</td>\n",
       "      <td>3129.7</td>\n",
       "      <td>YES</td>\n",
       "    </tr>\n",
       "    <tr>\n",
       "      <th>4</th>\n",
       "      <td>KERALA</td>\n",
       "      <td>1905</td>\n",
       "      <td>1.2</td>\n",
       "      <td>22.3</td>\n",
       "      <td>9.4</td>\n",
       "      <td>105.9</td>\n",
       "      <td>263.3</td>\n",
       "      <td>850.2</td>\n",
       "      <td>520.5</td>\n",
       "      <td>293.6</td>\n",
       "      <td>217.2</td>\n",
       "      <td>383.5</td>\n",
       "      <td>74.4</td>\n",
       "      <td>0.2</td>\n",
       "      <td>2741.6</td>\n",
       "      <td>NO</td>\n",
       "    </tr>\n",
       "  </tbody>\n",
       "</table>\n",
       "</div>"
      ],
      "text/plain": [
       "  SUBDIVISION  YEAR   JAN   FEB   MAR    APR    MAY     JUN     JUL    AUG  \\\n",
       "0      KERALA  1901  28.7  44.7  51.6  160.0  174.7   824.6   743.0  357.5   \n",
       "1      KERALA  1902   6.7   2.6  57.3   83.9  134.5   390.9  1205.0  315.8   \n",
       "2      KERALA  1903   3.2  18.6   3.1   83.6  249.7   558.6  1022.5  420.2   \n",
       "3      KERALA  1904  23.7   3.0  32.2   71.5  235.7  1098.2   725.5  351.8   \n",
       "4      KERALA  1905   1.2  22.3   9.4  105.9  263.3   850.2   520.5  293.6   \n",
       "\n",
       "     SEP    OCT    NOV    DEC   ANNUAL RAINFALL FLOODS  \n",
       "0  197.7  266.9  350.8   48.4            3248.6    YES  \n",
       "1  491.6  358.4  158.3  121.5            3326.6    YES  \n",
       "2  341.8  354.1  157.0   59.0            3271.2    YES  \n",
       "3  222.7  328.1   33.9    3.3            3129.7    YES  \n",
       "4  217.2  383.5   74.4    0.2            2741.6     NO  "
      ]
     },
     "execution_count": 2,
     "metadata": {},
     "output_type": "execute_result"
    }
   ],
   "source": [
    "import numpy as np\n",
    "import pandas as pd\n",
    "\n",
    "df = pd.read_csv(\"kerala.csv\")\n",
    "df.head()"
   ]
  },
  {
   "cell_type": "code",
   "execution_count": 3,
   "id": "69c91cbe-6126-4f65-8666-63cca95eb9a2",
   "metadata": {},
   "outputs": [],
   "source": [
    "df[\"FLOODS\"] = df[\"FLOODS\"].map({\"YES\": 1, \"NO\": 0})"
   ]
  },
  {
   "cell_type": "code",
   "execution_count": 4,
   "id": "49861ff4-b354-4e5f-a6b3-1b8dd02f6d40",
   "metadata": {},
   "outputs": [
    {
     "data": {
      "text/html": [
       "<div>\n",
       "<style scoped>\n",
       "    .dataframe tbody tr th:only-of-type {\n",
       "        vertical-align: middle;\n",
       "    }\n",
       "\n",
       "    .dataframe tbody tr th {\n",
       "        vertical-align: top;\n",
       "    }\n",
       "\n",
       "    .dataframe thead th {\n",
       "        text-align: right;\n",
       "    }\n",
       "</style>\n",
       "<table border=\"1\" class=\"dataframe\">\n",
       "  <thead>\n",
       "    <tr style=\"text-align: right;\">\n",
       "      <th></th>\n",
       "      <th>YEAR</th>\n",
       "      <th>JUN_GT_500</th>\n",
       "      <th>JUL_GT_500</th>\n",
       "      <th>FLOODS</th>\n",
       "      <th>COUNT</th>\n",
       "    </tr>\n",
       "  </thead>\n",
       "  <tbody>\n",
       "    <tr>\n",
       "      <th>0</th>\n",
       "      <td>1901</td>\n",
       "      <td>1</td>\n",
       "      <td>1</td>\n",
       "      <td>1</td>\n",
       "      <td>1</td>\n",
       "    </tr>\n",
       "    <tr>\n",
       "      <th>1</th>\n",
       "      <td>1902</td>\n",
       "      <td>0</td>\n",
       "      <td>1</td>\n",
       "      <td>1</td>\n",
       "      <td>1</td>\n",
       "    </tr>\n",
       "    <tr>\n",
       "      <th>2</th>\n",
       "      <td>1903</td>\n",
       "      <td>1</td>\n",
       "      <td>1</td>\n",
       "      <td>1</td>\n",
       "      <td>1</td>\n",
       "    </tr>\n",
       "    <tr>\n",
       "      <th>3</th>\n",
       "      <td>1904</td>\n",
       "      <td>1</td>\n",
       "      <td>1</td>\n",
       "      <td>1</td>\n",
       "      <td>1</td>\n",
       "    </tr>\n",
       "    <tr>\n",
       "      <th>4</th>\n",
       "      <td>1905</td>\n",
       "      <td>1</td>\n",
       "      <td>1</td>\n",
       "      <td>0</td>\n",
       "      <td>1</td>\n",
       "    </tr>\n",
       "  </tbody>\n",
       "</table>\n",
       "</div>"
      ],
      "text/plain": [
       "   YEAR  JUN_GT_500  JUL_GT_500  FLOODS  COUNT\n",
       "0  1901           1           1       1      1\n",
       "1  1902           0           1       1      1\n",
       "2  1903           1           1       1      1\n",
       "3  1904           1           1       1      1\n",
       "4  1905           1           1       0      1"
      ]
     },
     "execution_count": 4,
     "metadata": {},
     "output_type": "execute_result"
    }
   ],
   "source": [
    "df[\"JUN_GT_500\"] = (df[\"JUN\"] > 500).astype(\"int\")\n",
    "df[\"JUL_GT_500\"] = (df[\"JUL\"] > 500).astype(\"int\")\n",
    "df_small = df.loc[:, [\"YEAR\", \"JUN_GT_500\", \"JUL_GT_500\", \"FLOODS\"]]\n",
    "df_small[\"COUNT\"] = 1\n",
    "df_small.head()"
   ]
  },
  {
   "cell_type": "code",
   "execution_count": 5,
   "id": "173a26af-d021-4f20-9629-92ecc6f47ac0",
   "metadata": {},
   "outputs": [
    {
     "data": {
      "text/plain": [
       "(118, 5)"
      ]
     },
     "execution_count": 5,
     "metadata": {},
     "output_type": "execute_result"
    }
   ],
   "source": [
    "df_small.shape"
   ]
  },
  {
   "cell_type": "code",
   "execution_count": 6,
   "id": "6594ef65-169b-4c4b-b9d9-190878395e25",
   "metadata": {},
   "outputs": [
    {
     "data": {
      "text/html": [
       "<div>\n",
       "<style scoped>\n",
       "    .dataframe tbody tr th:only-of-type {\n",
       "        vertical-align: middle;\n",
       "    }\n",
       "\n",
       "    .dataframe tbody tr th {\n",
       "        vertical-align: top;\n",
       "    }\n",
       "\n",
       "    .dataframe thead th {\n",
       "        text-align: right;\n",
       "    }\n",
       "</style>\n",
       "<table border=\"1\" class=\"dataframe\">\n",
       "  <thead>\n",
       "    <tr style=\"text-align: right;\">\n",
       "      <th>JUN_GT_500</th>\n",
       "      <th>0</th>\n",
       "      <th>1</th>\n",
       "    </tr>\n",
       "    <tr>\n",
       "      <th>FLOODS</th>\n",
       "      <th></th>\n",
       "      <th></th>\n",
       "    </tr>\n",
       "  </thead>\n",
       "  <tbody>\n",
       "    <tr>\n",
       "      <th>0</th>\n",
       "      <td>19</td>\n",
       "      <td>39</td>\n",
       "    </tr>\n",
       "    <tr>\n",
       "      <th>1</th>\n",
       "      <td>6</td>\n",
       "      <td>54</td>\n",
       "    </tr>\n",
       "  </tbody>\n",
       "</table>\n",
       "</div>"
      ],
      "text/plain": [
       "JUN_GT_500   0   1\n",
       "FLOODS            \n",
       "0           19  39\n",
       "1            6  54"
      ]
     },
     "execution_count": 6,
     "metadata": {},
     "output_type": "execute_result"
    }
   ],
   "source": [
    "pd.crosstab(df_small[\"FLOODS\"], df_small[\"JUN_GT_500\"])"
   ]
  },
  {
   "cell_type": "code",
   "execution_count": 7,
   "id": "af408b9a-fc8d-4ec0-b72e-6e4524eee7e1",
   "metadata": {},
   "outputs": [
    {
     "name": "stdout",
     "output_type": "stream",
     "text": [
      "P(Flood): 0.5084745762711864\n",
      "P(June): 0.788135593220339\n",
      "P(Flood AND June): 0.4576271186440678\n"
     ]
    }
   ],
   "source": [
    "P_F = (6 + 54) / (6 + 54 + 19 + 39)\n",
    "P_J = (39 + 54) / (6 + 54 + 19 + 39)\n",
    "P_F_intersect_J = 54 / (6 + 54 + 19 + 39)\n",
    "print(f\"P(Flood): {P_F}\") \n",
    "print(f\"P(June): {P_J}\")\n",
    "print(f\"P(Flood AND June): {P_F_intersect_J}\")"
   ]
  },
  {
   "cell_type": "code",
   "execution_count": 8,
   "id": "ca924843-5aa1-4361-b1e7-2b8e97401f97",
   "metadata": {},
   "outputs": [
    {
     "name": "stdout",
     "output_type": "stream",
     "text": [
      "Probailitity of flood given it rained more than 500 mm in June (P(A|B)): \n",
      "P(Flood|June): 0.5806451612903226\n"
     ]
    }
   ],
   "source": [
    "P_F_J = P_F_intersect_J / P_J\n",
    "print(\"Probailitity of flood given it rained more than 500 mm in June (P(A|B)): \")\n",
    "print(f\"P(Flood|June): {P_F_J}\")"
   ]
  },
  {
   "cell_type": "code",
   "execution_count": 9,
   "id": "d94d4fba-97ec-4414-b9b8-db7bcd2a48bb",
   "metadata": {},
   "outputs": [
    {
     "name": "stdout",
     "output_type": "stream",
     "text": [
      "Probability of rain more than 500 mm in June given it flooded that year (P(B|A)): \n",
      "P(June|Flood): 0.9000000000000001\n"
     ]
    }
   ],
   "source": [
    "P_J_F = (P_F_J * P_J) / P_F\n",
    "print(\"Probability of rain more than 500 mm in June given it flooded that year (P(B|A)): \")\n",
    "print(f\"P(June|Flood): {P_J_F}\")"
   ]
  },
  {
   "cell_type": "code",
   "execution_count": 10,
   "id": "199677db-94c0-45d8-bfa4-49fe66adc2ea",
   "metadata": {},
   "outputs": [
    {
     "data": {
      "text/html": [
       "<div>\n",
       "<style scoped>\n",
       "    .dataframe tbody tr th:only-of-type {\n",
       "        vertical-align: middle;\n",
       "    }\n",
       "\n",
       "    .dataframe tbody tr th {\n",
       "        vertical-align: top;\n",
       "    }\n",
       "\n",
       "    .dataframe thead th {\n",
       "        text-align: right;\n",
       "    }\n",
       "</style>\n",
       "<table border=\"1\" class=\"dataframe\">\n",
       "  <thead>\n",
       "    <tr style=\"text-align: right;\">\n",
       "      <th>JUL_GT_500</th>\n",
       "      <th>0</th>\n",
       "      <th>1</th>\n",
       "    </tr>\n",
       "    <tr>\n",
       "      <th>FLOODS</th>\n",
       "      <th></th>\n",
       "      <th></th>\n",
       "    </tr>\n",
       "  </thead>\n",
       "  <tbody>\n",
       "    <tr>\n",
       "      <th>0</th>\n",
       "      <td>19</td>\n",
       "      <td>39</td>\n",
       "    </tr>\n",
       "    <tr>\n",
       "      <th>1</th>\n",
       "      <td>3</td>\n",
       "      <td>57</td>\n",
       "    </tr>\n",
       "  </tbody>\n",
       "</table>\n",
       "</div>"
      ],
      "text/plain": [
       "JUL_GT_500   0   1\n",
       "FLOODS            \n",
       "0           19  39\n",
       "1            3  57"
      ]
     },
     "execution_count": 10,
     "metadata": {},
     "output_type": "execute_result"
    }
   ],
   "source": [
    "pd.crosstab(df_small[\"FLOODS\"], df_small[\"JUL_GT_500\"])"
   ]
  },
  {
   "cell_type": "code",
   "execution_count": 11,
   "id": "eb6b67bb-98d2-406c-afb2-2fcb3ec295c9",
   "metadata": {},
   "outputs": [
    {
     "name": "stdout",
     "output_type": "stream",
     "text": [
      "P(Flood): 0.5084745762711864\n",
      "P(July): 0.8135593220338984\n",
      "P(Flood AND July): 0.4830508474576271\n"
     ]
    }
   ],
   "source": [
    "P_F = (3 + 57) / (3 + 57 + 19 + 39)\n",
    "P_J = (39 + 57) / (3 + 57 + 19 + 39)\n",
    "P_F_intersect_J = 57 / (3 + 57 + 19 + 39)\n",
    "print(f\"P(Flood): {P_F}\") \n",
    "print(f\"P(July): {P_J}\")\n",
    "print(f\"P(Flood AND July): {P_F_intersect_J}\")"
   ]
  },
  {
   "cell_type": "code",
   "execution_count": 12,
   "id": "e7e5bf1e-3096-4007-8e9b-c20fa170737b",
   "metadata": {},
   "outputs": [
    {
     "name": "stdout",
     "output_type": "stream",
     "text": [
      "Probabilitity of flood given it rained more than 500 mm in July: \n",
      "P(Flood|July): 0.59375\n"
     ]
    }
   ],
   "source": [
    "P_F_J = P_F_intersect_J / P_J\n",
    "print(\"Probabilitity of flood given it rained more than 500 mm in July: \")\n",
    "print(f\"P(Flood|July): {P_F_J}\")"
   ]
  },
  {
   "cell_type": "code",
   "execution_count": 13,
   "id": "bf47f399-e96d-427f-84ff-fdf5d55abbe3",
   "metadata": {},
   "outputs": [
    {
     "name": "stdout",
     "output_type": "stream",
     "text": [
      "Probability of rain more than 500 mm in July given it flooded that year (P(B|A)): \n",
      "P(July|Flood): 0.9500000000000002\n"
     ]
    }
   ],
   "source": [
    "P_J_F = (P_F_J * P_J) / P_F\n",
    "print(\"Probability of rain more than 500 mm in July given it flooded that year (P(B|A)): \")\n",
    "print(f\"P(July|Flood): {P_J_F}\")"
   ]
  },
  {
   "cell_type": "code",
   "execution_count": null,
   "id": "1cf52af0-a1cf-402c-a3b9-2dd21f03f57f",
   "metadata": {},
   "outputs": [],
   "source": []
  }
 ],
 "metadata": {
  "kernelspec": {
   "display_name": "Python 3 (ipykernel)",
   "language": "python",
   "name": "python3"
  },
  "language_info": {
   "codemirror_mode": {
    "name": "ipython",
    "version": 3
   },
   "file_extension": ".py",
   "mimetype": "text/x-python",
   "name": "python",
   "nbconvert_exporter": "python",
   "pygments_lexer": "ipython3",
   "version": "3.12.4"
  }
 },
 "nbformat": 4,
 "nbformat_minor": 5
}
