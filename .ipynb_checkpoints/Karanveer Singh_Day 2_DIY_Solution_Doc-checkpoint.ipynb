{
 "cells": [
  {
   "cell_type": "code",
   "execution_count": null,
   "id": "0d407354-4eeb-4871-956b-a2a13897a259",
   "metadata": {},
   "outputs": [],
   "source": [
    "Problem statement - percentage calculator\n"
   ]
  },
  {
   "cell_type": "code",
   "execution_count": 22,
   "id": "d3a43e73-f92d-440b-814b-077eb775e76a",
   "metadata": {},
   "outputs": [
    {
     "name": "stdin",
     "output_type": "stream",
     "text": [
      "enter the mark out of 100 obtained in subject -1 89\n",
      "enter the mark out of 100 obtained in subject -2 98\n",
      "enter the mark out of 100 obtained in subject -3 97\n",
      "enter the mark out of 100 obtained in subject -4 87\n",
      "enter the mark out of 100 obtained in subject -5 78\n",
      "enter the mark out of 100 obtained in subject -6 67\n"
     ]
    },
    {
     "name": "stdout",
     "output_type": "stream",
     "text": [
      "total marks obtained 516\n",
      "average marks obtained 86.0\n",
      "percentage obtained 86.0\n"
     ]
    }
   ],
   "source": [
    "a= int(input(\"enter the mark out of 100 obtained in subject -1\"))\n",
    "b= int(input(\"enter the mark out of 100 obtained in subject -2\"))\n",
    "c= int(input(\"enter the mark out of 100 obtained in subject -3\"))\n",
    "d= int(input(\"enter the mark out of 100 obtained in subject -4\"))\n",
    "e= int(input(\"enter the mark out of 100 obtained in subject -5\"))\n",
    "f= int(input(\"enter the mark out of 100 obtained in subject -6\"))\n",
    "z= a+b+c+d+e+f\n",
    "print(\"total marks obtained\", z)\n",
    "k= z/6\n",
    "print(\"average marks obtained\", k)\n",
    "x= z/600*100\n",
    "print(\"percentage obtained\",x)"
   ]
  },
  {
   "cell_type": "code",
   "execution_count": null,
   "id": "da9e04ea-2eb4-4028-b2ae-e15412d9e9d1",
   "metadata": {},
   "outputs": [],
   "source": [
    "Problem statement - score card"
   ]
  },
  {
   "cell_type": "code",
   "execution_count": 5,
   "id": "9316b3ae-fe22-4f91-8ed9-dea96c5f54ca",
   "metadata": {},
   "outputs": [],
   "source": [
    "l = [[554,\"umesh\"],[530,\"rohan\"],[320,\"rajat\"],[590,\"atish\"]]\n"
   ]
  },
  {
   "cell_type": "code",
   "execution_count": 6,
   "id": "b1aa84f7-91a0-42bc-b47f-8150aedf64d9",
   "metadata": {},
   "outputs": [
    {
     "data": {
      "text/plain": [
       "[[554, 'umesh'], [530, 'rohan'], [320, 'rajat'], [590, 'atish']]"
      ]
     },
     "execution_count": 6,
     "metadata": {},
     "output_type": "execute_result"
    }
   ],
   "source": [
    "\n",
    "l"
   ]
  },
  {
   "cell_type": "code",
   "execution_count": 8,
   "id": "d42fef71-0ef0-4328-a56d-1d06e07e99cd",
   "metadata": {},
   "outputs": [],
   "source": [
    "l.sort()\n"
   ]
  },
  {
   "cell_type": "code",
   "execution_count": 9,
   "id": "242bec2a-0911-4109-9b95-7a258c7979a8",
   "metadata": {},
   "outputs": [
    {
     "data": {
      "text/plain": [
       "[[320, 'rajat'], [530, 'rohan'], [554, 'umesh'], [590, 'atish']]"
      ]
     },
     "execution_count": 9,
     "metadata": {},
     "output_type": "execute_result"
    }
   ],
   "source": [
    "\n",
    "l\n",
    "\n"
   ]
  },
  {
   "cell_type": "code",
   "execution_count": 10,
   "id": "6dc34974-d847-4b2c-8d9b-3d2dc29df79f",
   "metadata": {},
   "outputs": [],
   "source": [
    "l.reverse()\n"
   ]
  },
  {
   "cell_type": "code",
   "execution_count": 12,
   "id": "8268e86c-12fd-424f-8148-8eaec801fe66",
   "metadata": {},
   "outputs": [
    {
     "data": {
      "text/plain": [
       "[[590, 'atish'], [554, 'umesh'], [530, 'rohan'], [320, 'rajat']]"
      ]
     },
     "execution_count": 12,
     "metadata": {},
     "output_type": "execute_result"
    }
   ],
   "source": [
    "l"
   ]
  },
  {
   "cell_type": "code",
   "execution_count": 25,
   "id": "607891ac-1c42-4661-a49b-263bc71e3921",
   "metadata": {},
   "outputs": [
    {
     "name": "stdout",
     "output_type": "stream",
     "text": [
      "student with higest marks is [590, 'atish']\n",
      "and the second with highest marks is [554, 'umesh']\n"
     ]
    }
   ],
   "source": [
    "print(\"student with higest marks is\", l[0])\n",
    "print(\"and the second with highest marks is\",l[1])"
   ]
  },
  {
   "cell_type": "code",
   "execution_count": null,
   "id": "51ce5e77-4810-4d86-af98-d4d30b565aff",
   "metadata": {},
   "outputs": [],
   "source": []
  },
  {
   "cell_type": "code",
   "execution_count": null,
   "id": "07a7d27c-5846-4429-aefa-339db0e6a411",
   "metadata": {},
   "outputs": [],
   "source": []
  },
  {
   "cell_type": "code",
   "execution_count": null,
   "id": "4f84a5c7-1ffa-4f11-b3ed-e596df5d6aa6",
   "metadata": {},
   "outputs": [],
   "source": []
  },
  {
   "cell_type": "code",
   "execution_count": null,
   "id": "87f8447c-55c6-4be5-83ea-081a1cf8fefd",
   "metadata": {},
   "outputs": [],
   "source": []
  }
 ],
 "metadata": {
  "kernelspec": {
   "display_name": "Python 3 (ipykernel)",
   "language": "python",
   "name": "python3"
  },
  "language_info": {
   "codemirror_mode": {
    "name": "ipython",
    "version": 3
   },
   "file_extension": ".py",
   "mimetype": "text/x-python",
   "name": "python",
   "nbconvert_exporter": "python",
   "pygments_lexer": "ipython3",
   "version": "3.12.4"
  }
 },
 "nbformat": 4,
 "nbformat_minor": 5
}
