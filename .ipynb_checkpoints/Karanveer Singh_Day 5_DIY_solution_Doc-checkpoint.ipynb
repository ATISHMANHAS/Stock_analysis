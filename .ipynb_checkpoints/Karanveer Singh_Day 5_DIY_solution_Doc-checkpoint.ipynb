{
 "cells": [
  {
   "cell_type": "code",
   "execution_count": 12,
   "id": "72e3d8f6-a539-4074-80e3-20b18879001c",
   "metadata": {},
   "outputs": [],
   "source": [
    "PROBLEM STATEMENT : Maths quiz\n"
   ]
  },
  {
   "cell_type": "code",
   "execution_count": 1,
   "id": "e150aabc-93b7-4064-aac1-843df14520f9",
   "metadata": {},
   "outputs": [],
   "source": [
    "import random"
   ]
  },
  {
   "cell_type": "code",
   "execution_count": 2,
   "id": "6f78d76d-1da4-47b8-80a7-cfbc828d56b7",
   "metadata": {},
   "outputs": [
    {
     "name": "stdin",
     "output_type": "stream",
     "text": [
      "what is your name karan\n"
     ]
    },
    {
     "name": "stdout",
     "output_type": "stream",
     "text": [
      "alright karan welcome to your maths quiz\n",
      "this is your question : 2*7\n",
      "what is your answer 4\n",
      "your answer is incorrect\n"
     ]
    }
   ],
   "source": [
    "n = input('what is your name')\n",
    "print('alright',n,'welcome to your maths quiz')\n",
    "q=2*7\n",
    "print('this is your question : 2*7')\n",
    "x =random.randint(1,20)\n",
    "print('what is your answer',x)\n",
    "\n",
    "if q==x:\n",
    "    print('yes your answer is correct')\n",
    "else:\n",
    "    print('your answer is incorrect')"
   ]
  },
  {
   "cell_type": "code",
   "execution_count": null,
   "id": "501c5371-b500-4d1b-a5c2-f19d1193c4ed",
   "metadata": {},
   "outputs": [],
   "source": [
    "PROBLEM CLASSES "
   ]
  },
  {
   "cell_type": "code",
   "execution_count": 18,
   "id": "fb4f51ca-c067-4a08-a09a-84472fcbee6d",
   "metadata": {},
   "outputs": [
    {
     "name": "stdout",
     "output_type": "stream",
     "text": [
      "I have  Mustang  car of yellow  colour . It gives mileage of  80\n"
     ]
    }
   ],
   "source": [
    "class car:\n",
    "    def __init__(self,name,speed,mileage):\n",
    "         self.name=name\n",
    "         self.speed = speed\n",
    "         self.mileage = mileage\n",
    "    def display(self):\n",
    "        print(\"I have \",self.name,\" car of\",self.speed,\" colour . It gives mileage of \",self.mileage)\n",
    "\n",
    "\n",
    "x= car('Mustang','yellow',80)\n",
    "\n",
    "x.display()"
   ]
  },
  {
   "cell_type": "code",
   "execution_count": null,
   "id": "075125e5-7217-444e-88d6-47298cabe826",
   "metadata": {},
   "outputs": [],
   "source": []
  }
 ],
 "metadata": {
  "kernelspec": {
   "display_name": "Python 3 (ipykernel)",
   "language": "python",
   "name": "python3"
  },
  "language_info": {
   "codemirror_mode": {
    "name": "ipython",
    "version": 3
   },
   "file_extension": ".py",
   "mimetype": "text/x-python",
   "name": "python",
   "nbconvert_exporter": "python",
   "pygments_lexer": "ipython3",
   "version": "3.12.4"
  }
 },
 "nbformat": 4,
 "nbformat_minor": 5
}
