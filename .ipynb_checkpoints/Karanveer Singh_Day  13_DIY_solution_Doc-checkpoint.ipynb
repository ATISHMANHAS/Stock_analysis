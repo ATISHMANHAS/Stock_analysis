{
 "cells": [
  {
   "cell_type": "code",
   "execution_count": null,
   "id": "a879a6a1-6a90-45bc-aa58-4ca811606089",
   "metadata": {},
   "outputs": [],
   "source": [
    "#Problem statement - Combining DataFrame - I"
   ]
  },
  {
   "cell_type": "code",
   "execution_count": 1,
   "id": "5f595d3e-f0f8-4318-a02f-791c0b09bc63",
   "metadata": {},
   "outputs": [],
   "source": [
    "import pandas as pd\n"
   ]
  },
  {
   "cell_type": "code",
   "execution_count": 33,
   "id": "98ed5e49-62be-429f-82cd-a08dbae114fe",
   "metadata": {},
   "outputs": [],
   "source": [
    "d = {\n",
    "    \"name\": [\"karan\",\"atish\",\"veer\"],\n",
    "    \"age\" : [23,21,22]}\n"
   ]
  },
  {
   "cell_type": "code",
   "execution_count": 34,
   "id": "2b00c44e-0663-4f17-8743-79e65fc70a78",
   "metadata": {},
   "outputs": [],
   "source": [
    "df= pd.DataFrame(d)"
   ]
  },
  {
   "cell_type": "code",
   "execution_count": 35,
   "id": "ffd3c35a-95f8-4b22-b08b-46047274c2ac",
   "metadata": {},
   "outputs": [
    {
     "data": {
      "text/html": [
       "<div>\n",
       "<style scoped>\n",
       "    .dataframe tbody tr th:only-of-type {\n",
       "        vertical-align: middle;\n",
       "    }\n",
       "\n",
       "    .dataframe tbody tr th {\n",
       "        vertical-align: top;\n",
       "    }\n",
       "\n",
       "    .dataframe thead th {\n",
       "        text-align: right;\n",
       "    }\n",
       "</style>\n",
       "<table border=\"1\" class=\"dataframe\">\n",
       "  <thead>\n",
       "    <tr style=\"text-align: right;\">\n",
       "      <th></th>\n",
       "      <th>name</th>\n",
       "      <th>age</th>\n",
       "    </tr>\n",
       "  </thead>\n",
       "  <tbody>\n",
       "    <tr>\n",
       "      <th>0</th>\n",
       "      <td>karan</td>\n",
       "      <td>23</td>\n",
       "    </tr>\n",
       "    <tr>\n",
       "      <th>1</th>\n",
       "      <td>atish</td>\n",
       "      <td>21</td>\n",
       "    </tr>\n",
       "    <tr>\n",
       "      <th>2</th>\n",
       "      <td>veer</td>\n",
       "      <td>22</td>\n",
       "    </tr>\n",
       "  </tbody>\n",
       "</table>\n",
       "</div>"
      ],
      "text/plain": [
       "    name  age\n",
       "0  karan   23\n",
       "1  atish   21\n",
       "2   veer   22"
      ]
     },
     "execution_count": 35,
     "metadata": {},
     "output_type": "execute_result"
    }
   ],
   "source": [
    "df"
   ]
  },
  {
   "cell_type": "code",
   "execution_count": 36,
   "id": "391bb23b-58cf-4d71-9713-fba8d5567d9b",
   "metadata": {},
   "outputs": [],
   "source": [
    "e = {\n",
    "    \"name\": [\"param\",\"ashish\",\"veer\"],\n",
    "    \"age\": [25,26,22]}\n"
   ]
  },
  {
   "cell_type": "code",
   "execution_count": 37,
   "id": "f0c578ab-74d8-4578-a8b0-42b4f7a03cb6",
   "metadata": {},
   "outputs": [],
   "source": [
    "df1 = pd.DataFrame(e)"
   ]
  },
  {
   "cell_type": "code",
   "execution_count": 38,
   "id": "4aa6e1e2-f573-40b4-8e53-d86327728ad5",
   "metadata": {},
   "outputs": [
    {
     "data": {
      "text/html": [
       "<div>\n",
       "<style scoped>\n",
       "    .dataframe tbody tr th:only-of-type {\n",
       "        vertical-align: middle;\n",
       "    }\n",
       "\n",
       "    .dataframe tbody tr th {\n",
       "        vertical-align: top;\n",
       "    }\n",
       "\n",
       "    .dataframe thead th {\n",
       "        text-align: right;\n",
       "    }\n",
       "</style>\n",
       "<table border=\"1\" class=\"dataframe\">\n",
       "  <thead>\n",
       "    <tr style=\"text-align: right;\">\n",
       "      <th></th>\n",
       "      <th>name</th>\n",
       "      <th>age</th>\n",
       "    </tr>\n",
       "  </thead>\n",
       "  <tbody>\n",
       "    <tr>\n",
       "      <th>0</th>\n",
       "      <td>param</td>\n",
       "      <td>25</td>\n",
       "    </tr>\n",
       "    <tr>\n",
       "      <th>1</th>\n",
       "      <td>ashish</td>\n",
       "      <td>26</td>\n",
       "    </tr>\n",
       "    <tr>\n",
       "      <th>2</th>\n",
       "      <td>veer</td>\n",
       "      <td>22</td>\n",
       "    </tr>\n",
       "  </tbody>\n",
       "</table>\n",
       "</div>"
      ],
      "text/plain": [
       "     name  age\n",
       "0   param   25\n",
       "1  ashish   26\n",
       "2    veer   22"
      ]
     },
     "execution_count": 38,
     "metadata": {},
     "output_type": "execute_result"
    }
   ],
   "source": [
    "df1"
   ]
  },
  {
   "cell_type": "code",
   "execution_count": 44,
   "id": "f2c619ca-026b-483a-85bb-5fa4b6b8dca0",
   "metadata": {},
   "outputs": [],
   "source": [
    "df2 = pd.concat([df,df1]).drop_duplicates()\n",
    "df2=df2.reset_index(drop=True)"
   ]
  },
  {
   "cell_type": "code",
   "execution_count": 45,
   "id": "268273ae-6300-43ec-8519-a7e014025f18",
   "metadata": {},
   "outputs": [
    {
     "data": {
      "text/html": [
       "<div>\n",
       "<style scoped>\n",
       "    .dataframe tbody tr th:only-of-type {\n",
       "        vertical-align: middle;\n",
       "    }\n",
       "\n",
       "    .dataframe tbody tr th {\n",
       "        vertical-align: top;\n",
       "    }\n",
       "\n",
       "    .dataframe thead th {\n",
       "        text-align: right;\n",
       "    }\n",
       "</style>\n",
       "<table border=\"1\" class=\"dataframe\">\n",
       "  <thead>\n",
       "    <tr style=\"text-align: right;\">\n",
       "      <th></th>\n",
       "      <th>name</th>\n",
       "      <th>age</th>\n",
       "    </tr>\n",
       "  </thead>\n",
       "  <tbody>\n",
       "    <tr>\n",
       "      <th>0</th>\n",
       "      <td>karan</td>\n",
       "      <td>23</td>\n",
       "    </tr>\n",
       "    <tr>\n",
       "      <th>1</th>\n",
       "      <td>atish</td>\n",
       "      <td>21</td>\n",
       "    </tr>\n",
       "    <tr>\n",
       "      <th>2</th>\n",
       "      <td>veer</td>\n",
       "      <td>22</td>\n",
       "    </tr>\n",
       "    <tr>\n",
       "      <th>3</th>\n",
       "      <td>param</td>\n",
       "      <td>25</td>\n",
       "    </tr>\n",
       "    <tr>\n",
       "      <th>4</th>\n",
       "      <td>ashish</td>\n",
       "      <td>26</td>\n",
       "    </tr>\n",
       "  </tbody>\n",
       "</table>\n",
       "</div>"
      ],
      "text/plain": [
       "     name  age\n",
       "0   karan   23\n",
       "1   atish   21\n",
       "2    veer   22\n",
       "3   param   25\n",
       "4  ashish   26"
      ]
     },
     "execution_count": 45,
     "metadata": {},
     "output_type": "execute_result"
    }
   ],
   "source": [
    "df2"
   ]
  },
  {
   "cell_type": "code",
   "execution_count": null,
   "id": "246612db-ae69-4bfd-bfd5-aa7f2c5dc29e",
   "metadata": {},
   "outputs": [],
   "source": [
    "#Problem statement - Combining DataFrame - II"
   ]
  },
  {
   "cell_type": "code",
   "execution_count": 46,
   "id": "2656b190-c07d-42df-82e9-e4d816e3b757",
   "metadata": {},
   "outputs": [],
   "source": [
    "d = {\n",
    "    \"employee\": [\"arun\",\"atish\",\"param\",\"varun\"],\n",
    "    \"department\":[\"finance\",\"accounting\",\"engineering\",\"engineering\"]}"
   ]
  },
  {
   "cell_type": "code",
   "execution_count": 47,
   "id": "6eed5106-4029-41d1-86b7-46a3a597fbdb",
   "metadata": {},
   "outputs": [],
   "source": [
    "df = pd.DataFrame(d)"
   ]
  },
  {
   "cell_type": "code",
   "execution_count": 48,
   "id": "653c4ee6-4585-441f-965e-4922fb58c715",
   "metadata": {},
   "outputs": [],
   "source": [
    "r = {\n",
    "     \"employee\": [\"arun\",\"atish\",\"param\",\"varun\"],\n",
    "    \"joining date\": [2004,2005,2004,2001]}"
   ]
  },
  {
   "cell_type": "code",
   "execution_count": 49,
   "id": "7767774a-df76-47db-9edb-9b07f6e08c87",
   "metadata": {},
   "outputs": [],
   "source": [
    "df1 = pd.DataFrame(r)"
   ]
  },
  {
   "cell_type": "code",
   "execution_count": 50,
   "id": "e457507c-7a08-4ab5-8092-3fe224372d00",
   "metadata": {},
   "outputs": [
    {
     "data": {
      "text/html": [
       "<div>\n",
       "<style scoped>\n",
       "    .dataframe tbody tr th:only-of-type {\n",
       "        vertical-align: middle;\n",
       "    }\n",
       "\n",
       "    .dataframe tbody tr th {\n",
       "        vertical-align: top;\n",
       "    }\n",
       "\n",
       "    .dataframe thead th {\n",
       "        text-align: right;\n",
       "    }\n",
       "</style>\n",
       "<table border=\"1\" class=\"dataframe\">\n",
       "  <thead>\n",
       "    <tr style=\"text-align: right;\">\n",
       "      <th></th>\n",
       "      <th>employee</th>\n",
       "      <th>department</th>\n",
       "      <th>joining date</th>\n",
       "    </tr>\n",
       "  </thead>\n",
       "  <tbody>\n",
       "    <tr>\n",
       "      <th>0</th>\n",
       "      <td>arun</td>\n",
       "      <td>finance</td>\n",
       "      <td>2004</td>\n",
       "    </tr>\n",
       "    <tr>\n",
       "      <th>1</th>\n",
       "      <td>atish</td>\n",
       "      <td>accounting</td>\n",
       "      <td>2005</td>\n",
       "    </tr>\n",
       "    <tr>\n",
       "      <th>2</th>\n",
       "      <td>param</td>\n",
       "      <td>engineering</td>\n",
       "      <td>2004</td>\n",
       "    </tr>\n",
       "    <tr>\n",
       "      <th>3</th>\n",
       "      <td>varun</td>\n",
       "      <td>engineering</td>\n",
       "      <td>2001</td>\n",
       "    </tr>\n",
       "  </tbody>\n",
       "</table>\n",
       "</div>"
      ],
      "text/plain": [
       "  employee   department  joining date\n",
       "0     arun      finance          2004\n",
       "1    atish   accounting          2005\n",
       "2    param  engineering          2004\n",
       "3    varun  engineering          2001"
      ]
     },
     "execution_count": 50,
     "metadata": {},
     "output_type": "execute_result"
    }
   ],
   "source": [
    "df2 = pd.merge(df,df1)\n",
    "df2"
   ]
  },
  {
   "cell_type": "code",
   "execution_count": 55,
   "id": "bd3be180-6126-4c23-9a40-6889a4200f75",
   "metadata": {},
   "outputs": [],
   "source": [
    "df3 =df2[df2[\"department\"]==\"engineering\"]"
   ]
  },
  {
   "cell_type": "code",
   "execution_count": 56,
   "id": "85cb41a3-4f88-44c8-873e-e72869440955",
   "metadata": {},
   "outputs": [
    {
     "data": {
      "text/html": [
       "<div>\n",
       "<style scoped>\n",
       "    .dataframe tbody tr th:only-of-type {\n",
       "        vertical-align: middle;\n",
       "    }\n",
       "\n",
       "    .dataframe tbody tr th {\n",
       "        vertical-align: top;\n",
       "    }\n",
       "\n",
       "    .dataframe thead th {\n",
       "        text-align: right;\n",
       "    }\n",
       "</style>\n",
       "<table border=\"1\" class=\"dataframe\">\n",
       "  <thead>\n",
       "    <tr style=\"text-align: right;\">\n",
       "      <th></th>\n",
       "      <th>employee</th>\n",
       "      <th>department</th>\n",
       "      <th>joining date</th>\n",
       "    </tr>\n",
       "  </thead>\n",
       "  <tbody>\n",
       "    <tr>\n",
       "      <th>2</th>\n",
       "      <td>param</td>\n",
       "      <td>engineering</td>\n",
       "      <td>2004</td>\n",
       "    </tr>\n",
       "    <tr>\n",
       "      <th>3</th>\n",
       "      <td>varun</td>\n",
       "      <td>engineering</td>\n",
       "      <td>2001</td>\n",
       "    </tr>\n",
       "  </tbody>\n",
       "</table>\n",
       "</div>"
      ],
      "text/plain": [
       "  employee   department  joining date\n",
       "2    param  engineering          2004\n",
       "3    varun  engineering          2001"
      ]
     },
     "execution_count": 56,
     "metadata": {},
     "output_type": "execute_result"
    }
   ],
   "source": [
    "df3"
   ]
  },
  {
   "cell_type": "code",
   "execution_count": null,
   "id": "f89e3fd2-828f-4f07-b6fd-7123b207eb73",
   "metadata": {},
   "outputs": [],
   "source": []
  }
 ],
 "metadata": {
  "kernelspec": {
   "display_name": "Python 3 (ipykernel)",
   "language": "python",
   "name": "python3"
  },
  "language_info": {
   "codemirror_mode": {
    "name": "ipython",
    "version": 3
   },
   "file_extension": ".py",
   "mimetype": "text/x-python",
   "name": "python",
   "nbconvert_exporter": "python",
   "pygments_lexer": "ipython3",
   "version": "3.12.4"
  }
 },
 "nbformat": 4,
 "nbformat_minor": 5
}
