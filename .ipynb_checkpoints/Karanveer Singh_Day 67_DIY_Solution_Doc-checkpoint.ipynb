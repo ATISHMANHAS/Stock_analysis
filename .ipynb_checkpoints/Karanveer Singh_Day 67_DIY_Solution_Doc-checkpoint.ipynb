{
 "cells": [
  {
   "cell_type": "raw",
   "id": "39014741-20b6-4626-a809-932915321961",
   "metadata": {},
   "source": [
    "Q1: What is Hyperparameter Optimization, and why do we need it?\n",
    "Hyperparameter optimization is the process of selecting the best set of hyperparameters for a machine learning model to maximize its performance on a specific dataset. Hyperparameters are configuration settings that control the model training process and architecture but are not learned from the data (e.g., learning rate, number of layers, batch size).\n",
    "\n",
    "Why do we need it?\n",
    "\n",
    "To enhance model performance and accuracy.\n",
    "To prevent overfitting or underfitting.\n",
    "To ensure the model generalizes well to unseen data.\n",
    "To achieve optimal computational efficiency during training."
   ]
  },
  {
   "cell_type": "raw",
   "id": "dcced2cd-73d4-4a05-be13-a184db0449e6",
   "metadata": {},
   "source": [
    "Q2: List out other types of Hyperparameter Optimization.\n",
    "Grid Search: Exhaustively searching through a predefined set of hyperparameters.\n",
    "Random Search: Randomly sampling hyperparameters within a range.\n",
    "Bayesian Optimization: Using probabilistic models to find the best hyperparameters.\n",
    "Hyperband: An efficient method combining random search with early stopping.\n",
    "Evolutionary Algorithms: Using genetic algorithms or evolutionary strategies to optimize hyperparameters.\n",
    "Reinforcement Learning-Based Optimization: Learning optimal hyperparameters using reinforcement learning.\n",
    "Automated Machine Learning (AutoML): Automatically choosing hyperparameters through frameworks like Auto-sklearn or H2O.ai."
   ]
  },
  {
   "cell_type": "raw",
   "id": "faedebcc-1e3d-4c44-a206-873a99ca8bb8",
   "metadata": {},
   "source": [
    "Q3: What is Random Search, and what are its drawbacks?\n",
    "Random Search is a hyperparameter optimization technique that selects random combinations of hyperparameters from a defined range. Unlike Grid Search, it does not try all possible combinations but samples randomly, making it computationally cheaper.\n",
    "\n",
    "Drawbacks:\n",
    "\n",
    "It may miss the best hyperparameters, especially for high-dimensional spaces.\n",
    "Requires specifying ranges for each hyperparameter, which may not always be straightforward.\n",
    "Computational resources may still be wasted on evaluating poor hyperparameter combinations."
   ]
  },
  {
   "cell_type": "raw",
   "id": "25904b56-aea4-43b3-baca-47e2d5754c2f",
   "metadata": {},
   "source": [
    "Q4: What is the difference between a Parameter and a Hyperparameter?\n",
    "Aspect\tParameter\tHyperparameter\n",
    "Definition\tLearned from the data during training.\tSet before training; controls the learning process.\n",
    "Examples\tWeights, biases in a neural network.\tLearning rate, batch size, number of epochs.\n",
    "Optimization\tOptimized using algorithms like SGD, Adam.\tTuned manually or via optimization methods.\n"
   ]
  },
  {
   "cell_type": "code",
   "execution_count": null,
   "id": "c043058d-959b-4802-884c-0f0fca67018b",
   "metadata": {},
   "outputs": [],
   "source": [
    "Q5: What are examples of Hyperparameter Tuning?\n",
    "Learning Rate: Optimizing how much the model updates weights during training.\n",
    "Batch Size: Choosing the number of training samples processed at a time.\n",
    "Number of Hidden Layers: Deciding the architecture of deep learning models.\n",
    "Dropout Rate: Setting the probability of dropping units to prevent overfitting.\n",
    "Number of Epochs: Defining how many times the model sees the training dataset.\n",
    "Regularization Parameters: Tuning L1 or L2 regularization strength.\n",
    "Kernel Function (SVM): Selecting the type of kernel for Support Vector Machines.\n"
   ]
  }
 ],
 "metadata": {
  "kernelspec": {
   "display_name": "Python 3 (ipykernel)",
   "language": "python",
   "name": "python3"
  },
  "language_info": {
   "codemirror_mode": {
    "name": "ipython",
    "version": 3
   },
   "file_extension": ".py",
   "mimetype": "text/x-python",
   "name": "python",
   "nbconvert_exporter": "python",
   "pygments_lexer": "ipython3",
   "version": "3.12.4"
  }
 },
 "nbformat": 4,
 "nbformat_minor": 5
}
