{
 "cells": [
  {
   "cell_type": "markdown",
   "id": "493d1519-65f3-4748-ac0e-a8625cd38294",
   "metadata": {},
   "source": [
    "Q1. What is NLP?\n",
    "Natural Language Processing (NLP) is a subfield of artificial intelligence (AI) and computer science that focuses on the interaction between computers and humans using natural language. The goal is to enable machines to understand, interpret, generate, and respond to human languages in a meaningful way.\n",
    "\n",
    "Q2. What is tokenization?\n",
    "Tokenization is the process of breaking down a text or sentence into smaller components, called tokens, such as words, phrases, or characters. These tokens serve as the basic units for further analysis in NLP tasks. For example:\n",
    "\n",
    "Sentence: \"NLP is fun!\"\n",
    "Tokens: [‘NLP’, ‘is’, ‘fun’, ‘!’]\n",
    "\n",
    "\n",
    "Q3. State the applications of NLP.\n",
    "Chatbots and Virtual Assistants: Assistants like Siri, Alexa, and Google Assistant use NLP for conversation.\n",
    "Sentiment Analysis: Understanding opinions in reviews, social media, and feedback.\n",
    "Machine Translation: Tools like Google Translate enable translation between languages.\n",
    "Speech Recognition: Converting spoken language into text (e.g., voice-to-text applications).\n",
    "Text Summarization: Extracting key points from large documents or articles.\n",
    "Named Entity Recognition (NER): Identifying entities like names, dates, or locations in text.\n",
    "Information Retrieval: Search engines like Google retrieve relevant results using NLP.\n",
    "Spam Detection: Filtering spam emails by analyzing their content.\n",
    "\n",
    "\n",
    "Q4. What are the steps involved while preprocessing data for NLP?\n",
    "Tokenization: Splitting text into tokens.\n",
    "Lowercasing: Converting all text to lowercase to maintain uniformity.\n",
    "Stopword Removal: Removing common words (e.g., \"is,\" \"the,\" \"and\") that may not contribute to analysis.\n",
    "Stemming and Lemmatization: Reducing words to their root or base forms (e.g., \"running\" → \"run\").\n",
    "Removing Punctuation and Numbers: Cleaning non-textual elements.\n",
    "Part-of-Speech (POS) Tagging: Assigning grammatical roles to words.\n",
    "Text Normalization: Correcting spelling errors or expanding contractions (e.g., \"can't\" → \"cannot\").\n",
    "\n",
    "\n",
    "Q5. Explain Morphological Analysis in NLP.\n",
    "Morphological analysis involves studying the structure of words and how they are formed from morphemes (the smallest meaningful units of language). It is a critical step in understanding the grammar and meaning of text in NLP.\n",
    "\n",
    "Inflectional Morphology: Deals with grammatical variations (e.g., \"walks,\" \"walked,\" \"walking\").\n",
    "Derivational Morphology: Studies how new words are formed (e.g., \"happy\" → \"happiness\")."
   ]
  }
 ],
 "metadata": {
  "kernelspec": {
   "display_name": "Python 3 (ipykernel)",
   "language": "python",
   "name": "python3"
  },
  "language_info": {
   "codemirror_mode": {
    "name": "ipython",
    "version": 3
   },
   "file_extension": ".py",
   "mimetype": "text/x-python",
   "name": "python",
   "nbconvert_exporter": "python",
   "pygments_lexer": "ipython3",
   "version": "3.12.4"
  }
 },
 "nbformat": 4,
 "nbformat_minor": 5
}
