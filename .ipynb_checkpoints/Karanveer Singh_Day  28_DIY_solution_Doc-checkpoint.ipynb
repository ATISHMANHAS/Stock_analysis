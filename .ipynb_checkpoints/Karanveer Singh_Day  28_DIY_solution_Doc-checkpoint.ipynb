{
 "cells": [
  {
   "cell_type": "code",
   "execution_count": null,
   "id": "4ab5cb33-a978-49db-be78-f40de811f3ac",
   "metadata": {},
   "outputs": [],
   "source": [
    " Problem Statement: Statistical Hypothesis Testing"
   ]
  },
  {
   "cell_type": "code",
   "execution_count": 1,
   "id": "aa248f4d-ac9b-49ca-94b7-87b26b6fcce6",
   "metadata": {},
   "outputs": [],
   "source": [
    "total_mean = 5\n",
    "sample_mean = 2\n",
    "standard_deviation = 3\n",
    "sample_size = 50"
   ]
  },
  {
   "cell_type": "code",
   "execution_count": 3,
   "id": "e1aa0e13-5e55-48b3-9229-91447ece31a5",
   "metadata": {},
   "outputs": [
    {
     "name": "stdout",
     "output_type": "stream",
     "text": [
      "5 4\n"
     ]
    }
   ],
   "source": [
    "import math\n",
    "significant_interval = 1.96  # based on z score at 95% \n",
    "error_rate = standard_deviation/(math.sqrt(sample_size))\n",
    "UCV = int(total_mean + (significant_interval*error_rate))\n",
    "LCV = int(total_mean - (significant_interval*error_rate))\n",
    "print(UCV,LCV)"
   ]
  },
  {
   "cell_type": "code",
   "execution_count": 4,
   "id": "c7f7721a-03f2-478d-a0be-fc9e98ca074c",
   "metadata": {},
   "outputs": [
    {
     "name": "stdout",
     "output_type": "stream",
     "text": [
      " we are rejecting null hypothesis and accepting alternate hypothesis\n"
     ]
    }
   ],
   "source": [
    "if UCV < sample_mean or sample_mean < LCV:\n",
    "    print(\" we are rejecting null hypothesis and accepting alternate hypothesis\")\n",
    "else:\n",
    "    print(\"we are accepting null hyporhesis\")"
   ]
  },
  {
   "cell_type": "code",
   "execution_count": null,
   "id": "769e4abd-2bc4-4779-8212-82933bab8e3c",
   "metadata": {},
   "outputs": [],
   "source": [
    " Problem Statement: Statistical Hypothesis Testing"
   ]
  },
  {
   "cell_type": "code",
   "execution_count": 5,
   "id": "c858d7fb-5fa5-4a78-b916-9acf5d7d017f",
   "metadata": {},
   "outputs": [],
   "source": [
    "total_mean = 50000\n",
    "sample_mean = 48000\n",
    "standard_deviation = 15\n",
    "sample_size = 100"
   ]
  },
  {
   "cell_type": "code",
   "execution_count": 6,
   "id": "5cb8b5a9-a5d0-4c2b-9f67-eb55cea1b08e",
   "metadata": {},
   "outputs": [],
   "source": [
    "import math\n",
    "significant_interval = 1.96\n",
    "error_rate = standard_deviation/(math.sqrt(sample_size))\n",
    "UCV = int(total_mean + (significant_interval*error_rate))\n",
    "LCV = int(total_mean - (significant_interval*error_rate))"
   ]
  },
  {
   "cell_type": "code",
   "execution_count": 7,
   "id": "8b781b47-ef4f-4108-a001-a74e589eb30e",
   "metadata": {},
   "outputs": [
    {
     "name": "stdout",
     "output_type": "stream",
     "text": [
      " we are rejecting null hypothesis and accepting alternate hypothesis\n"
     ]
    }
   ],
   "source": [
    "if UCV < sample_mean or sample_mean < LCV:\n",
    "    print(\" we are rejecting null hypothesis and accepting alternate hypothesis\")\n",
    "else:\n",
    "    print(\"we are accepting null hyporhesis\")"
   ]
  },
  {
   "cell_type": "code",
   "execution_count": null,
   "id": "97876d05-a88a-43fd-b0ac-9df6fe0746b6",
   "metadata": {},
   "outputs": [],
   "source": []
  }
 ],
 "metadata": {
  "kernelspec": {
   "display_name": "Python 3 (ipykernel)",
   "language": "python",
   "name": "python3"
  },
  "language_info": {
   "codemirror_mode": {
    "name": "ipython",
    "version": 3
   },
   "file_extension": ".py",
   "mimetype": "text/x-python",
   "name": "python",
   "nbconvert_exporter": "python",
   "pygments_lexer": "ipython3",
   "version": "3.12.4"
  }
 },
 "nbformat": 4,
 "nbformat_minor": 5
}
