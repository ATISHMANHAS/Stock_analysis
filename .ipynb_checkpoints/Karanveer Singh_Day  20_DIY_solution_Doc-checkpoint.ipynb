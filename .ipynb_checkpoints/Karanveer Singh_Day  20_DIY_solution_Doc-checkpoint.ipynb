{
 "cells": [
  {
   "cell_type": "code",
   "execution_count": 1,
   "id": "ebaccff2-1859-4a86-a3df-eee32f5574a6",
   "metadata": {},
   "outputs": [
    {
     "data": {
      "text/html": [
       "<div>\n",
       "<style scoped>\n",
       "    .dataframe tbody tr th:only-of-type {\n",
       "        vertical-align: middle;\n",
       "    }\n",
       "\n",
       "    .dataframe tbody tr th {\n",
       "        vertical-align: top;\n",
       "    }\n",
       "\n",
       "    .dataframe thead th {\n",
       "        text-align: right;\n",
       "    }\n",
       "</style>\n",
       "<table border=\"1\" class=\"dataframe\">\n",
       "  <thead>\n",
       "    <tr style=\"text-align: right;\">\n",
       "      <th></th>\n",
       "      <th>Employee_Name</th>\n",
       "      <th>EmpID</th>\n",
       "      <th>MarriedID</th>\n",
       "      <th>MaritalStatusID</th>\n",
       "      <th>GenderID</th>\n",
       "      <th>EmpStatusID</th>\n",
       "      <th>DeptID</th>\n",
       "      <th>PerfScoreID</th>\n",
       "      <th>FromDiversityJobFairID</th>\n",
       "      <th>Salary</th>\n",
       "      <th>...</th>\n",
       "      <th>ManagerName</th>\n",
       "      <th>ManagerID</th>\n",
       "      <th>RecruitmentSource</th>\n",
       "      <th>PerformanceScore</th>\n",
       "      <th>EngagementSurvey</th>\n",
       "      <th>EmpSatisfaction</th>\n",
       "      <th>SpecialProjectsCount</th>\n",
       "      <th>LastPerformanceReview_Date</th>\n",
       "      <th>DaysLateLast30</th>\n",
       "      <th>Absences</th>\n",
       "    </tr>\n",
       "  </thead>\n",
       "  <tbody>\n",
       "    <tr>\n",
       "      <th>0</th>\n",
       "      <td>Adinolfi, Wilson  K</td>\n",
       "      <td>10026</td>\n",
       "      <td>0</td>\n",
       "      <td>0</td>\n",
       "      <td>1</td>\n",
       "      <td>1</td>\n",
       "      <td>5</td>\n",
       "      <td>4</td>\n",
       "      <td>0</td>\n",
       "      <td>62506</td>\n",
       "      <td>...</td>\n",
       "      <td>Michael Albert</td>\n",
       "      <td>22.0</td>\n",
       "      <td>LinkedIn</td>\n",
       "      <td>Exceeds</td>\n",
       "      <td>4.60</td>\n",
       "      <td>5</td>\n",
       "      <td>0</td>\n",
       "      <td>1/17/2019</td>\n",
       "      <td>0</td>\n",
       "      <td>1</td>\n",
       "    </tr>\n",
       "    <tr>\n",
       "      <th>1</th>\n",
       "      <td>Ait Sidi, Karthikeyan</td>\n",
       "      <td>10084</td>\n",
       "      <td>1</td>\n",
       "      <td>1</td>\n",
       "      <td>1</td>\n",
       "      <td>5</td>\n",
       "      <td>3</td>\n",
       "      <td>3</td>\n",
       "      <td>0</td>\n",
       "      <td>104437</td>\n",
       "      <td>...</td>\n",
       "      <td>Simon Roup</td>\n",
       "      <td>4.0</td>\n",
       "      <td>Indeed</td>\n",
       "      <td>Fully Meets</td>\n",
       "      <td>4.96</td>\n",
       "      <td>3</td>\n",
       "      <td>6</td>\n",
       "      <td>2/24/2016</td>\n",
       "      <td>0</td>\n",
       "      <td>17</td>\n",
       "    </tr>\n",
       "    <tr>\n",
       "      <th>2</th>\n",
       "      <td>Akinkuolie, Sarah</td>\n",
       "      <td>10196</td>\n",
       "      <td>1</td>\n",
       "      <td>1</td>\n",
       "      <td>0</td>\n",
       "      <td>5</td>\n",
       "      <td>5</td>\n",
       "      <td>3</td>\n",
       "      <td>0</td>\n",
       "      <td>64955</td>\n",
       "      <td>...</td>\n",
       "      <td>Kissy Sullivan</td>\n",
       "      <td>20.0</td>\n",
       "      <td>LinkedIn</td>\n",
       "      <td>Fully Meets</td>\n",
       "      <td>3.02</td>\n",
       "      <td>3</td>\n",
       "      <td>0</td>\n",
       "      <td>5/15/2012</td>\n",
       "      <td>0</td>\n",
       "      <td>3</td>\n",
       "    </tr>\n",
       "    <tr>\n",
       "      <th>3</th>\n",
       "      <td>Alagbe,Trina</td>\n",
       "      <td>10088</td>\n",
       "      <td>1</td>\n",
       "      <td>1</td>\n",
       "      <td>0</td>\n",
       "      <td>1</td>\n",
       "      <td>5</td>\n",
       "      <td>3</td>\n",
       "      <td>0</td>\n",
       "      <td>64991</td>\n",
       "      <td>...</td>\n",
       "      <td>Elijiah Gray</td>\n",
       "      <td>16.0</td>\n",
       "      <td>Indeed</td>\n",
       "      <td>Fully Meets</td>\n",
       "      <td>4.84</td>\n",
       "      <td>5</td>\n",
       "      <td>0</td>\n",
       "      <td>1/3/2019</td>\n",
       "      <td>0</td>\n",
       "      <td>15</td>\n",
       "    </tr>\n",
       "    <tr>\n",
       "      <th>4</th>\n",
       "      <td>Anderson, Carol</td>\n",
       "      <td>10069</td>\n",
       "      <td>0</td>\n",
       "      <td>2</td>\n",
       "      <td>0</td>\n",
       "      <td>5</td>\n",
       "      <td>5</td>\n",
       "      <td>3</td>\n",
       "      <td>0</td>\n",
       "      <td>50825</td>\n",
       "      <td>...</td>\n",
       "      <td>Webster Butler</td>\n",
       "      <td>39.0</td>\n",
       "      <td>Google Search</td>\n",
       "      <td>Fully Meets</td>\n",
       "      <td>5.00</td>\n",
       "      <td>4</td>\n",
       "      <td>0</td>\n",
       "      <td>2/1/2016</td>\n",
       "      <td>0</td>\n",
       "      <td>2</td>\n",
       "    </tr>\n",
       "  </tbody>\n",
       "</table>\n",
       "<p>5 rows × 36 columns</p>\n",
       "</div>"
      ],
      "text/plain": [
       "              Employee_Name  EmpID  MarriedID  MaritalStatusID  GenderID  \\\n",
       "0       Adinolfi, Wilson  K  10026          0                0         1   \n",
       "1  Ait Sidi, Karthikeyan     10084          1                1         1   \n",
       "2         Akinkuolie, Sarah  10196          1                1         0   \n",
       "3              Alagbe,Trina  10088          1                1         0   \n",
       "4          Anderson, Carol   10069          0                2         0   \n",
       "\n",
       "   EmpStatusID  DeptID  PerfScoreID  FromDiversityJobFairID  Salary  ...  \\\n",
       "0            1       5            4                       0   62506  ...   \n",
       "1            5       3            3                       0  104437  ...   \n",
       "2            5       5            3                       0   64955  ...   \n",
       "3            1       5            3                       0   64991  ...   \n",
       "4            5       5            3                       0   50825  ...   \n",
       "\n",
       "      ManagerName  ManagerID RecruitmentSource PerformanceScore  \\\n",
       "0  Michael Albert       22.0          LinkedIn          Exceeds   \n",
       "1      Simon Roup        4.0            Indeed      Fully Meets   \n",
       "2  Kissy Sullivan       20.0          LinkedIn      Fully Meets   \n",
       "3    Elijiah Gray       16.0            Indeed      Fully Meets   \n",
       "4  Webster Butler       39.0     Google Search      Fully Meets   \n",
       "\n",
       "   EngagementSurvey EmpSatisfaction SpecialProjectsCount  \\\n",
       "0              4.60               5                    0   \n",
       "1              4.96               3                    6   \n",
       "2              3.02               3                    0   \n",
       "3              4.84               5                    0   \n",
       "4              5.00               4                    0   \n",
       "\n",
       "  LastPerformanceReview_Date DaysLateLast30 Absences  \n",
       "0                  1/17/2019              0        1  \n",
       "1                  2/24/2016              0       17  \n",
       "2                  5/15/2012              0        3  \n",
       "3                   1/3/2019              0       15  \n",
       "4                   2/1/2016              0        2  \n",
       "\n",
       "[5 rows x 36 columns]"
      ]
     },
     "metadata": {},
     "output_type": "display_data"
    }
   ],
   "source": [
    "import numpy as np\n",
    "import pandas as pd\n",
    "import matplotlib.pyplot as plt\n",
    "import seaborn as sns\n",
    "df = pd.read_csv(\"HRDataset_v14.csv\")\n",
    "display(df.head())"
   ]
  },
  {
   "cell_type": "code",
   "execution_count": 2,
   "id": "0015908a-bb97-4872-84fe-a79f05ae5e07",
   "metadata": {},
   "outputs": [
    {
     "name": "stdout",
     "output_type": "stream",
     "text": [
      "<class 'pandas.core.frame.DataFrame'>\n",
      "RangeIndex: 311 entries, 0 to 310\n",
      "Data columns (total 36 columns):\n",
      " #   Column                      Non-Null Count  Dtype  \n",
      "---  ------                      --------------  -----  \n",
      " 0   Employee_Name               311 non-null    object \n",
      " 1   EmpID                       311 non-null    int64  \n",
      " 2   MarriedID                   311 non-null    int64  \n",
      " 3   MaritalStatusID             311 non-null    int64  \n",
      " 4   GenderID                    311 non-null    int64  \n",
      " 5   EmpStatusID                 311 non-null    int64  \n",
      " 6   DeptID                      311 non-null    int64  \n",
      " 7   PerfScoreID                 311 non-null    int64  \n",
      " 8   FromDiversityJobFairID      311 non-null    int64  \n",
      " 9   Salary                      311 non-null    int64  \n",
      " 10  Termd                       311 non-null    int64  \n",
      " 11  PositionID                  311 non-null    int64  \n",
      " 12  Position                    311 non-null    object \n",
      " 13  State                       311 non-null    object \n",
      " 14  Zip                         311 non-null    int64  \n",
      " 15  DOB                         311 non-null    object \n",
      " 16  Sex                         311 non-null    object \n",
      " 17  MaritalDesc                 311 non-null    object \n",
      " 18  CitizenDesc                 311 non-null    object \n",
      " 19  HispanicLatino              311 non-null    object \n",
      " 20  RaceDesc                    311 non-null    object \n",
      " 21  DateofHire                  311 non-null    object \n",
      " 22  DateofTermination           104 non-null    object \n",
      " 23  TermReason                  311 non-null    object \n",
      " 24  EmploymentStatus            311 non-null    object \n",
      " 25  Department                  311 non-null    object \n",
      " 26  ManagerName                 311 non-null    object \n",
      " 27  ManagerID                   303 non-null    float64\n",
      " 28  RecruitmentSource           311 non-null    object \n",
      " 29  PerformanceScore            311 non-null    object \n",
      " 30  EngagementSurvey            311 non-null    float64\n",
      " 31  EmpSatisfaction             311 non-null    int64  \n",
      " 32  SpecialProjectsCount        311 non-null    int64  \n",
      " 33  LastPerformanceReview_Date  311 non-null    object \n",
      " 34  DaysLateLast30              311 non-null    int64  \n",
      " 35  Absences                    311 non-null    int64  \n",
      "dtypes: float64(2), int64(16), object(18)\n",
      "memory usage: 87.6+ KB\n"
     ]
    }
   ],
   "source": [
    "df.info()"
   ]
  },
  {
   "cell_type": "code",
   "execution_count": 3,
   "id": "4ac0b352-b4e3-4bc3-9867-4795b64380cd",
   "metadata": {},
   "outputs": [
    {
     "name": "stdout",
     "output_type": "stream",
     "text": [
      "                                 Employee_Name  EmpID  MarriedID  \\\n",
      "Department                                                         \n",
      "Admin Offices                Boutwell, Bonalyn  10081          1   \n",
      "Executive Office                   King, Janet  10089          1   \n",
      "IT/IS                 Ait Sidi, Karthikeyan     10084          1   \n",
      "Production                 Adinolfi, Wilson  K  10026          0   \n",
      "Sales                         Bunbury, Jessica  10188          1   \n",
      "Software Engineering           Andreola, Colby  10194          0   \n",
      "\n",
      "                      MaritalStatusID  GenderID  EmpStatusID  DeptID  \\\n",
      "Department                                                             \n",
      "Admin Offices                       1         0            1       1   \n",
      "Executive Office                    1         0            1       2   \n",
      "IT/IS                               1         1            5       3   \n",
      "Production                          0         1            1       5   \n",
      "Sales                               1         0            5       6   \n",
      "Software Engineering                0         0            1       4   \n",
      "\n",
      "                      PerfScoreID  FromDiversityJobFairID  Salary  ...  \\\n",
      "Department                                                         ...   \n",
      "Admin Offices                   3                       1  106367  ...   \n",
      "Executive Office                3                       0  250000  ...   \n",
      "IT/IS                           3                       0  104437  ...   \n",
      "Production                      4                       0   62506  ...   \n",
      "Sales                           3                       0   74326  ...   \n",
      "Software Engineering            3                       0   95660  ...   \n",
      "\n",
      "                             ManagerName  ManagerID   RecruitmentSource  \\\n",
      "Department                                                                \n",
      "Admin Offices         Brandon R. LeBlanc        3.0  Diversity Job Fair   \n",
      "Executive Office      Board of Directors        9.0              Indeed   \n",
      "IT/IS                         Simon Roup        4.0              Indeed   \n",
      "Production                Michael Albert       22.0            LinkedIn   \n",
      "Sales                         John Smith       17.0       Google Search   \n",
      "Software Engineering     Alex Sweetwater       10.0            LinkedIn   \n",
      "\n",
      "                     PerformanceScore  EngagementSurvey EmpSatisfaction  \\\n",
      "Department                                                                \n",
      "Admin Offices             Fully Meets              5.00               4   \n",
      "Executive Office          Fully Meets              4.83               3   \n",
      "IT/IS                     Fully Meets              4.96               3   \n",
      "Production                    Exceeds              4.60               5   \n",
      "Sales                     Fully Meets              3.14               5   \n",
      "Software Engineering      Fully Meets              3.04               3   \n",
      "\n",
      "                     SpecialProjectsCount LastPerformanceReview_Date  \\\n",
      "Department                                                             \n",
      "Admin Offices                           3                  2/18/2019   \n",
      "Executive Office                        0                  1/17/2019   \n",
      "IT/IS                                   6                  2/24/2016   \n",
      "Production                              0                  1/17/2019   \n",
      "Sales                                   0                  2/10/2013   \n",
      "Software Engineering                    4                   1/2/2019   \n",
      "\n",
      "                     DaysLateLast30 Absences  \n",
      "Department                                    \n",
      "Admin Offices                     0        4  \n",
      "Executive Office                  0       10  \n",
      "IT/IS                             0       17  \n",
      "Production                        0        1  \n",
      "Sales                             1       19  \n",
      "Software Engineering              0       19  \n",
      "\n",
      "[6 rows x 35 columns]\n"
     ]
    }
   ],
   "source": [
    "grouped_df =  df.groupby(['Department'])\n",
    "print((grouped_df).first())"
   ]
  },
  {
   "cell_type": "code",
   "execution_count": 4,
   "id": "3236a941-6f16-481d-9682-b108ab56bb9a",
   "metadata": {},
   "outputs": [
    {
     "data": {
      "text/html": [
       "<div>\n",
       "<style scoped>\n",
       "    .dataframe tbody tr th:only-of-type {\n",
       "        vertical-align: middle;\n",
       "    }\n",
       "\n",
       "    .dataframe tbody tr th {\n",
       "        vertical-align: top;\n",
       "    }\n",
       "\n",
       "    .dataframe thead th {\n",
       "        text-align: right;\n",
       "    }\n",
       "</style>\n",
       "<table border=\"1\" class=\"dataframe\">\n",
       "  <thead>\n",
       "    <tr style=\"text-align: right;\">\n",
       "      <th></th>\n",
       "      <th>Department</th>\n",
       "      <th>Salary</th>\n",
       "    </tr>\n",
       "  </thead>\n",
       "  <tbody>\n",
       "    <tr>\n",
       "      <th>0</th>\n",
       "      <td>Admin Offices</td>\n",
       "      <td>71791.888889</td>\n",
       "    </tr>\n",
       "    <tr>\n",
       "      <th>1</th>\n",
       "      <td>Executive Office</td>\n",
       "      <td>250000.000000</td>\n",
       "    </tr>\n",
       "    <tr>\n",
       "      <th>2</th>\n",
       "      <td>IT/IS</td>\n",
       "      <td>97064.640000</td>\n",
       "    </tr>\n",
       "    <tr>\n",
       "      <th>3</th>\n",
       "      <td>Production</td>\n",
       "      <td>59953.545455</td>\n",
       "    </tr>\n",
       "    <tr>\n",
       "      <th>4</th>\n",
       "      <td>Sales</td>\n",
       "      <td>69061.258065</td>\n",
       "    </tr>\n",
       "    <tr>\n",
       "      <th>5</th>\n",
       "      <td>Software Engineering</td>\n",
       "      <td>94989.454545</td>\n",
       "    </tr>\n",
       "  </tbody>\n",
       "</table>\n",
       "</div>"
      ],
      "text/plain": [
       "             Department         Salary\n",
       "0         Admin Offices   71791.888889\n",
       "1      Executive Office  250000.000000\n",
       "2                 IT/IS   97064.640000\n",
       "3     Production          59953.545455\n",
       "4                 Sales   69061.258065\n",
       "5  Software Engineering   94989.454545"
      ]
     },
     "metadata": {},
     "output_type": "display_data"
    }
   ],
   "source": [
    "dept_Salary_df =  df.groupby(['Department'],as_index=False).Salary.mean()\n",
    "display(dept_Salary_df)"
   ]
  },
  {
   "cell_type": "code",
   "execution_count": 5,
   "id": "8c3f9c03-e691-4a2d-9cb0-c9bd408c3c50",
   "metadata": {},
   "outputs": [
    {
     "name": "stdout",
     "output_type": "stream",
     "text": [
      "This department has highest number of employees\n"
     ]
    },
    {
     "data": {
      "text/plain": [
       "0    Production       \n",
       "Name: Department, dtype: object"
      ]
     },
     "metadata": {},
     "output_type": "display_data"
    }
   ],
   "source": [
    "print(\"This department has highest number of employees\")\n",
    "display(df['Department'].mode())"
   ]
  },
  {
   "cell_type": "code",
   "execution_count": 6,
   "id": "756cafd0-efb9-4cb4-b4b3-c8196555f786",
   "metadata": {},
   "outputs": [
    {
     "name": "stdout",
     "output_type": "stream",
     "text": [
      "Department-wise Variance of salary:______\n"
     ]
    },
    {
     "data": {
      "text/plain": [
       "np.float64(5116833840.207844)"
      ]
     },
     "execution_count": 6,
     "metadata": {},
     "output_type": "execute_result"
    }
   ],
   "source": [
    "print(\"Department-wise Variance of salary:______\")\n",
    "dept_Salary_df['Salary'].var()"
   ]
  },
  {
   "cell_type": "code",
   "execution_count": 9,
   "id": "bf3bbc2a-b4a6-4b1c-b4d3-0a6ce54b6f27",
   "metadata": {},
   "outputs": [
    {
     "name": "stdout",
     "output_type": "stream",
     "text": [
      "Interquartile range of salary:______\n"
     ]
    },
    {
     "data": {
      "text/plain": [
       "np.float64(26801.927865754304)"
      ]
     },
     "execution_count": 9,
     "metadata": {},
     "output_type": "execute_result"
    }
   ],
   "source": [
    "from scipy.stats import iqr\n",
    "print(\"Interquartile range of salary:______\")\n",
    "iqr(dept_Salary_df['Salary'])\n"
   ]
  },
  {
   "cell_type": "code",
   "execution_count": 12,
   "id": "cbe80a26-e1ed-41dc-85f2-ba2b095fe207",
   "metadata": {},
   "outputs": [
    {
     "name": "stdout",
     "output_type": "stream",
     "text": [
      "Department-wise z-score of salaries:____________ \n"
     ]
    },
    {
     "data": {
      "text/plain": [
       "0   -0.541376\n",
       "1    2.187712\n",
       "2   -0.154348\n",
       "3   -0.722669\n",
       "4   -0.583193\n",
       "5   -0.186127\n",
       "Name: Salary, dtype: float64"
      ]
     },
     "metadata": {},
     "output_type": "display_data"
    }
   ],
   "source": [
    "from scipy.stats import zscore\n",
    "zscores = zscore(dept_Salary_df['Salary'])\n",
    "print(\"Department-wise z-score of salaries:____________ \")\n",
    "display(zscores)"
   ]
  },
  {
   "cell_type": "code",
   "execution_count": 14,
   "id": "838ccd43-d22c-4e34-9235-245c0e074535",
   "metadata": {},
   "outputs": [
    {
     "name": "stdout",
     "output_type": "stream",
     "text": [
      "65th percentile of Salary column is:\n",
      "65988.0\n"
     ]
    }
   ],
   "source": [
    "ptl = np.percentile(df[\"Salary\"], 65)\n",
    "print(\"65th percentile of Salary column is:\")\n",
    "print(ptl)"
   ]
  },
  {
   "cell_type": "code",
   "execution_count": 15,
   "id": "32019720-bcca-485f-9b55-2000d89109bc",
   "metadata": {},
   "outputs": [
    {
     "name": "stdout",
     "output_type": "stream",
     "text": [
      "Quartile values of 20, 40 from GenderID column:\n",
      "[40 40 20 20 20 20 20 40 20 40 20 40 40 40 40 40 20 20 20 40 40 20 20 20\n",
      " 20 40 20 40 20 20 40 20 20 20 40 40 40 20 40 20 20 20 40 20 40 40 20 20\n",
      " 40 20 40 40 40 40 40 40 20 40 20 40 20 20 20 40 40 40 20 40 20 40 40 40\n",
      " 20 20 20 20 40 20 20 20 20 40 40 20 40 20 20 20 20 20 40 40 20 40 20 40\n",
      " 40 20 40 20 40 20 20 20 20 40 20 20 20 40 20 40 40 20 20 40 20 20 40 20\n",
      " 40 40 20 40 20 20 40 20 40 20 20 20 20 20 20 20 20 40 20 20 20 20 20 40\n",
      " 20 20 20 20 40 40 20 20 20 40 40 40 40 40 20 40 40 40 20 20 40 40 40 20\n",
      " 20 40 20 20 20 20 20 40 20 20 20 20 20 20 20 20 40 20 20 40 40 40 40 20\n",
      " 40 20 20 40 40 40 40 40 40 20 20 20 20 20 20 20 40 40 40 20 40 40 40 20\n",
      " 20 20 20 20 20 40 40 20 20 40 20 40 20 40 40 40 20 20 40 40 20 40 20 20\n",
      " 20 20 40 40 40 20 20 40 40 40 20 20 20 20 40 20 20 40 40 20 20 20 40 20\n",
      " 20 20 20 40 40 40 20 20 40 20 40 40 20 20 20 20 40 20 40 20 40 40 20 40\n",
      " 20 40 40 40 40 20 20 40 20 20 40 20 40 40 20 20 40 20 40 20 20 20 20]\n"
     ]
    }
   ],
   "source": [
    "x = np.quantile([20, 40], df[\"GenderID\"])\n",
    "print(\"Quartile values of 20, 40 from GenderID column:\")\n",
    "print(x)\n"
   ]
  },
  {
   "cell_type": "code",
   "execution_count": null,
   "id": "f571778c-b6fa-4a73-9ed8-400d015911e9",
   "metadata": {},
   "outputs": [],
   "source": []
  }
 ],
 "metadata": {
  "kernelspec": {
   "display_name": "Python 3 (ipykernel)",
   "language": "python",
   "name": "python3"
  },
  "language_info": {
   "codemirror_mode": {
    "name": "ipython",
    "version": 3
   },
   "file_extension": ".py",
   "mimetype": "text/x-python",
   "name": "python",
   "nbconvert_exporter": "python",
   "pygments_lexer": "ipython3",
   "version": "3.12.4"
  }
 },
 "nbformat": 4,
 "nbformat_minor": 5
}
