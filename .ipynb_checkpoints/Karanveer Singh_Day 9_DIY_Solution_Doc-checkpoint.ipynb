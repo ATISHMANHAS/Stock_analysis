{
 "cells": [
  {
   "cell_type": "code",
   "execution_count": null,
   "id": "3cd64e94-f683-470a-a0dd-90c071cae6f5",
   "metadata": {},
   "outputs": [],
   "source": [
    "Problem statement: UNderstanding file statement"
   ]
  },
  {
   "cell_type": "code",
   "execution_count": 19,
   "id": "8f56f85a-6085-4708-860d-1a1ad7fbb8b1",
   "metadata": {},
   "outputs": [
    {
     "name": "stdout",
     "output_type": "stream",
     "text": [
      "Jack and Jill went up the hill\n",
      "\n",
      "To fetch a pail of water.\n",
      "\n",
      "Jack fell down and broke his crown,\n",
      "\n",
      "And Jill came tumbling after.\n",
      "\n",
      "Then up got Jack and said to Jill,\n",
      "\n",
      "As in his arms he took her,\n",
      "\n",
      "“Brush off that dirt for you’re not hurt,\n",
      "\n",
      "Let’s fetch that pail of water.”\n",
      "\n",
      "So Jack and Jill went up the hill\n",
      "\n",
      "To fetch the pail of water,\n",
      "\n",
      "And took it home to Mother dear,\n",
      "\n",
      "Who thanked her son and daughter.\n",
      "\n"
     ]
    }
   ],
   "source": [
    "f = open(\"Poem.txt\",\"r\",encoding='utf-8')\n",
    "print(f.readline())\n",
    "print(f.readline())\n",
    "print(f.readline())\n",
    "print(f.readline())\n",
    "print(f.readline())\n",
    "print(f.readline())\n",
    "print(f.readline())\n",
    "print(f.readline())\n",
    "print(f.readline())\n",
    "print(f.readline())\n",
    "print(f.readline())\n",
    "print(f.readline())\n"
   ]
  },
  {
   "cell_type": "code",
   "execution_count": null,
   "id": "d930784e-7716-4ba8-ad41-aa45d116facf",
   "metadata": {},
   "outputs": [],
   "source": [
    "Problem statemnet: modify text file using phyton"
   ]
  },
  {
   "cell_type": "code",
   "execution_count": 21,
   "id": "fadc64e3-f011-47c4-93bb-72d7a700d29d",
   "metadata": {},
   "outputs": [],
   "source": [
    "with open(\"Poem.txt\",\"r\",encoding=\"utf-8\") as file:\n",
    "    x= file.read()\n",
    "    x= x.replace(\"J\",\"K\")\n",
    "    with open(\"Poem.txt\",\"w\") as y:\n",
    "        y.write(x)"
   ]
  },
  {
   "cell_type": "code",
   "execution_count": 23,
   "id": "b3a199b4-549e-4734-81b0-61cb0288a01e",
   "metadata": {},
   "outputs": [
    {
     "name": "stdout",
     "output_type": "stream",
     "text": [
      "Kack and Kill went up the hill\n",
      "To fetch a pail of water.\n",
      "Kack fell down and broke his crown,\n",
      "And Kill came tumbling after.\n",
      "Then up got Kack and said to Kill,\n",
      "As in his arms he took her,\n",
      "“Brush off that dirt for you’re not hurt,\n",
      "Let’s fetch that pail of water.”\n",
      "So Kack and Kill went up the hill\n",
      "To fetch the pail of water,\n",
      "And took it home to Mother dear,\n",
      "Who thanked her son and daughter.\n",
      "\n",
      "\n"
     ]
    }
   ],
   "source": [
    "with open(\"Poem.txt\",\"r\") as file:\n",
    "    print(file.read())"
   ]
  },
  {
   "cell_type": "code",
   "execution_count": null,
   "id": "e86ac289-3082-4546-9271-0c5ae2437a1f",
   "metadata": {},
   "outputs": [],
   "source": []
  }
 ],
 "metadata": {
  "kernelspec": {
   "display_name": "Python 3 (ipykernel)",
   "language": "python",
   "name": "python3"
  },
  "language_info": {
   "codemirror_mode": {
    "name": "ipython",
    "version": 3
   },
   "file_extension": ".py",
   "mimetype": "text/x-python",
   "name": "python",
   "nbconvert_exporter": "python",
   "pygments_lexer": "ipython3",
   "version": "3.12.4"
  }
 },
 "nbformat": 4,
 "nbformat_minor": 5
}
