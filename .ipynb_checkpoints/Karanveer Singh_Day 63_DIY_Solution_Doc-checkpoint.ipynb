{
 "cells": [
  {
   "cell_type": "code",
   "execution_count": 1,
   "id": "4b18b90c-0c15-442a-b3ba-aae1644c9934",
   "metadata": {},
   "outputs": [
    {
     "name": "stdout",
     "output_type": "stream",
     "text": [
      "Null values before cleaning:\n",
      "PassengerId      1\n",
      "Survived         0\n",
      "Pclass           0\n",
      "Name             0\n",
      "Sex              0\n",
      "Age             86\n",
      "SibSp            0\n",
      "Parch            0\n",
      "Ticket           0\n",
      "Fare             1\n",
      "Cabin          327\n",
      "Embarked         0\n",
      "dtype: int64\n",
      "\n",
      "Null values after cleaning:\n",
      "PassengerId    0\n",
      "Survived       0\n",
      "Pclass         0\n",
      "Name           0\n",
      "Sex            0\n",
      "Age            0\n",
      "SibSp          0\n",
      "Parch          0\n",
      "Ticket         0\n",
      "Fare           0\n",
      "Cabin          0\n",
      "Embarked       0\n",
      "dtype: int64\n"
     ]
    }
   ],
   "source": [
    "import pandas as pd\n",
    "\n",
    "df = pd.read_csv('titanic.csv')\n",
    "\n",
    "print(\"Null values before cleaning:\")\n",
    "print(df.isnull().sum())\n",
    "\n",
    "df_cleaned = df.dropna()\n",
    "\n",
    "print(\"\\nNull values after cleaning:\")\n",
    "print(df_cleaned.isnull().sum())\n"
   ]
  },
  {
   "cell_type": "code",
   "execution_count": 2,
   "id": "c4cac00c-c561-4dbe-8b5f-a9889be9fa9b",
   "metadata": {},
   "outputs": [
    {
     "name": "stdout",
     "output_type": "stream",
     "text": [
      "Target variable (y):\n",
      "12    1\n",
      "14    1\n",
      "24    1\n",
      "26    1\n",
      "28    0\n",
      "Name: Survived, dtype: int64\n",
      "\n",
      "Independent variables (X):\n",
      "    PassengerId  Pclass                                               Name  \\\n",
      "12        904.0       1      Snyder, Mrs. John Pillsbury (Nelle Stevenson)   \n",
      "14        906.0       1  Chaffee, Mrs. Herbert Fuller (Carrie Constance...   \n",
      "24        916.0       1    Ryerson, Mrs. Arthur Larned (Emily Maria Borie)   \n",
      "26        918.0       1                       Ostby, Miss. Helene Ragnhild   \n",
      "28        920.0       1                            Brady, Mr. John Bertram   \n",
      "\n",
      "       Sex   Age  SibSp  Parch       Ticket      Fare            Cabin  \\\n",
      "12  female  23.0      1      0        21228   82.2667              B45   \n",
      "14  female  47.0      1      0  W.E.P. 5734   61.1750              E31   \n",
      "24  female  48.0      1      3     PC 17608  262.3750  B57 B59 B63 B66   \n",
      "26  female  22.0      0      1       113509   61.9792              B36   \n",
      "28    male  41.0      0      0       113054   30.5000              A21   \n",
      "\n",
      "   Embarked  \n",
      "12        S  \n",
      "14        S  \n",
      "24        C  \n",
      "26        C  \n",
      "28        S  \n"
     ]
    }
   ],
   "source": [
    "target = df_cleaned['Survived']\n",
    "\n",
    "features = df_cleaned.drop(columns=['Survived'])\n",
    "\n",
    "print(\"Target variable (y):\")\n",
    "print(target.head())\n",
    "\n",
    "print(\"\\nIndependent variables (X):\")\n",
    "print(features.head())\n"
   ]
  },
  {
   "cell_type": "code",
   "execution_count": 3,
   "id": "d3ecca76-b0b8-4435-a39f-52de7c8b2ea7",
   "metadata": {},
   "outputs": [
    {
     "name": "stdout",
     "output_type": "stream",
     "text": [
      "Numeric columns in the dataset:\n",
      "    PassengerId  Pclass   Age  SibSp  Parch      Fare\n",
      "12        904.0       1  23.0      1      0   82.2667\n",
      "14        906.0       1  47.0      1      0   61.1750\n",
      "24        916.0       1  48.0      1      3  262.3750\n",
      "26        918.0       1  22.0      0      1   61.9792\n",
      "28        920.0       1  41.0      0      0   30.5000\n"
     ]
    }
   ],
   "source": [
    "numeric_features = features.select_dtypes(include=['number'])\n",
    "\n",
    "print(\"Numeric columns in the dataset:\")\n",
    "print(numeric_features.head())\n"
   ]
  },
  {
   "cell_type": "code",
   "execution_count": 4,
   "id": "482e809e-c237-438a-8bbc-1b6d2a283e9f",
   "metadata": {},
   "outputs": [
    {
     "name": "stdout",
     "output_type": "stream",
     "text": [
      "TRAIN: [ 1  2  3  5  6  7  8  9 11 13 14 15 16 17 19 20 21 23 24 25 27 28 29 30\n",
      " 31 32 34 35 36 37 38 39 40 41 42 43 44 45 46 47 48 49 50 51 52 54 55 56\n",
      " 57 58 59 60 61 62 63 66 69 70 71 72 73 74 75 77 78 81 82 85 86] TEST: [ 0  4 10 12 18 22 26 33 53 64 65 67 68 76 79 80 83 84]\n",
      "TRAIN: [ 0  1  2  3  4  6  8 10 12 13 14 15 17 18 19 20 21 22 23 24 25 26 27 29\n",
      " 32 33 36 37 38 41 43 46 47 48 49 50 51 52 53 54 56 57 58 59 60 61 62 63\n",
      " 64 65 67 68 69 70 71 72 74 75 76 77 78 79 80 81 82 83 84 85 86] TEST: [ 5  7  9 11 16 28 30 31 34 35 39 40 42 44 45 55 66 73]\n",
      "TRAIN: [ 0  1  2  4  5  7  9 10 11 12 14 15 16 18 20 21 22 23 26 27 28 29 30 31\n",
      " 32 33 34 35 37 39 40 41 42 43 44 45 46 48 50 51 52 53 54 55 57 58 59 60\n",
      " 62 63 64 65 66 67 68 70 71 73 74 75 76 77 79 80 81 82 83 84 85 86] TEST: [ 3  6  8 13 17 19 24 25 36 38 47 49 56 61 69 72 78]\n",
      "TRAIN: [ 0  1  2  3  4  5  6  7  8  9 10 11 12 13 14 16 17 18 19 20 21 22 23 24\n",
      " 25 26 28 29 30 31 33 34 35 36 37 38 39 40 42 44 45 47 49 51 52 53 55 56\n",
      " 59 60 61 63 64 65 66 67 68 69 71 72 73 74 75 76 78 79 80 81 83 84] TEST: [15 27 32 41 43 46 48 50 54 57 58 62 70 77 82 85 86]\n",
      "TRAIN: [ 0  3  4  5  6  7  8  9 10 11 12 13 15 16 17 18 19 22 24 25 26 27 28 30\n",
      " 31 32 33 34 35 36 38 39 40 41 42 43 44 45 46 47 48 49 50 53 54 55 56 57\n",
      " 58 61 62 64 65 66 67 68 69 70 72 73 76 77 78 79 80 82 83 84 85 86] TEST: [ 1  2 14 20 21 23 29 37 51 52 59 60 63 71 74 75 81]\n"
     ]
    }
   ],
   "source": [
    "from sklearn.model_selection import KFold\n",
    "\n",
    "kf = KFold(n_splits=5, shuffle=True, random_state=42)\n",
    "\n",
    "for train_index, test_index in kf.split(numeric_features):\n",
    "    print(\"TRAIN:\", train_index, \"TEST:\", test_index)\n"
   ]
  },
  {
   "cell_type": "code",
   "execution_count": 5,
   "id": "d557b2ea-e206-4e08-8356-e61848d42ff7",
   "metadata": {},
   "outputs": [
    {
     "name": "stdout",
     "output_type": "stream",
     "text": [
      "Accuracies for each fold: [0.5555555555555556, 0.3888888888888889, 0.5882352941176471, 0.47058823529411764, 0.5294117647058824]\n",
      "Average accuracy: 0.5065359477124183\n"
     ]
    }
   ],
   "source": [
    "from sklearn.tree import DecisionTreeClassifier\n",
    "from sklearn.metrics import accuracy_score\n",
    "\n",
    "model = DecisionTreeClassifier(random_state=42)\n",
    "fold_accuracies = []\n",
    "\n",
    "for train_index, test_index in kf.split(numeric_features):\n",
    "    X_train, X_test = numeric_features.iloc[train_index], numeric_features.iloc[test_index]\n",
    "    y_train, y_test = target.iloc[train_index], target.iloc[test_index]\n",
    "    \n",
    "    model.fit(X_train, y_train)\n",
    "    predictions = model.predict(X_test)\n",
    "    accuracy = accuracy_score(y_test, predictions)\n",
    "    fold_accuracies.append(accuracy)\n",
    "\n",
    "print(\"Accuracies for each fold:\", fold_accuracies)\n",
    "print(\"Average accuracy:\", sum(fold_accuracies) / len(fold_accuracies))\n"
   ]
  },
  {
   "cell_type": "code",
   "execution_count": 6,
   "id": "d9ef61eb-6a3a-4478-9e21-a82a8d23f966",
   "metadata": {},
   "outputs": [
    {
     "name": "stdout",
     "output_type": "stream",
     "text": [
      "Cross-validation accuracies: [0.38888889 0.44444444 0.29411765 0.52941176 0.47058824]\n",
      "Average cross-validation accuracy: 0.42549019607843136\n"
     ]
    }
   ],
   "source": [
    "from sklearn.model_selection import cross_val_score\n",
    "\n",
    "cross_val_accuracies = cross_val_score(model, numeric_features, target, cv=5)\n",
    "\n",
    "print(\"Cross-validation accuracies:\", cross_val_accuracies)\n",
    "print(\"Average cross-validation accuracy:\", cross_val_accuracies.mean())\n"
   ]
  },
  {
   "cell_type": "code",
   "execution_count": null,
   "id": "4a363e85-db49-4d57-9e42-8295d162abb9",
   "metadata": {},
   "outputs": [],
   "source": []
  }
 ],
 "metadata": {
  "kernelspec": {
   "display_name": "Python 3 (ipykernel)",
   "language": "python",
   "name": "python3"
  },
  "language_info": {
   "codemirror_mode": {
    "name": "ipython",
    "version": 3
   },
   "file_extension": ".py",
   "mimetype": "text/x-python",
   "name": "python",
   "nbconvert_exporter": "python",
   "pygments_lexer": "ipython3",
   "version": "3.12.4"
  }
 },
 "nbformat": 4,
 "nbformat_minor": 5
}
