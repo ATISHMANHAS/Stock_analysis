{
 "cells": [
  {
   "cell_type": "raw",
   "id": "ccc6650f-4b06-41d8-b660-8941f0ebe639",
   "metadata": {},
   "source": [
    "1. How do ensemble techniques work for regression and classification problems?\n",
    "Ensemble techniques combine the predictions of multiple models to improve overall performance. Here's how they work:\n",
    "\n",
    "For Classification:\n",
    "\n",
    "Majority Voting: Each model votes for a class, and the class with the most votes is chosen.\n",
    "Weighted Voting: Each model's vote is weighted based on its accuracy.\n",
    "For Regression:\n",
    "\n",
    "Averaging: Predictions from all models are averaged to produce the final prediction.\n",
    "Weighted Averaging: Predictions are weighted by model performance.\n",
    "Ensemble techniques reduce overfitting, increase robustness, and improve accuracy. Common methods include Bagging (e.g., Random Forest), Boosting (e.g., XGBoost), and Stacking.\n",
    "\n"
   ]
  },
  {
   "cell_type": "raw",
   "id": "5919c6fa-f639-4c9b-b308-eee5fde670d6",
   "metadata": {},
   "source": [
    ". What is the mixing models approach?\n",
    "The mixing models approach, also known as ensemble learning, combines multiple models (weak learners or base models) to form a stronger model. These models can be mixed in different ways:\n",
    "\n",
    "Bagging: Models are trained independently, and predictions are combined (e.g., Random Forest).\n",
    "Boosting: Models are trained sequentially, correcting errors from previous models (e.g., XGBoost).\n",
    "Stacking: Combines predictions of multiple models using another model (meta-model) to make the final prediction.\n",
    "This approach reduces bias, variance, and improves predictive performance.\n",
    "\n"
   ]
  },
  {
   "cell_type": "raw",
   "id": "61b40b76-503a-47ad-9d35-2d11351d87fc",
   "metadata": {},
   "source": [
    "What are the XGBoost hyperparameters?\n",
    "XGBoost has several hyperparameters categorized into three types:\n",
    "\n",
    "General Parameters:\n",
    "\n",
    "booster: Type of booster to use (e.g., \"gbtree\", \"gblinear\", \"dart\").\n",
    "nthread: Number of threads to use for training.\n",
    "Booster Parameters:\n",
    "\n",
    "eta (learning rate): Shrinks feature weights to make the model more robust.\n",
    "max_depth: Maximum depth of trees.\n",
    "min_child_weight: Minimum sum of instance weights (hessian) needed in a leaf.\n",
    "subsample: Fraction of samples used for training each tree.\n",
    "colsample_bytree: Fraction of features used per tree.\n",
    "lambda and alpha: Regularization parameters for L2 and L1 penalties.\n",
    "Learning Task Parameters:\n",
    "\n",
    "objective: Defines the learning task (e.g., \"reg:squarederror\" for regression, \"binary:logistic\" for binary classification).\n",
    "eval_metric: Evaluation metric (e.g., \"rmse\", \"logloss\").\n",
    "Hyperparameters are fine-tuned to optimize model performance."
   ]
  },
  {
   "cell_type": "raw",
   "id": "02affc05-afe2-4571-9f0a-5d37b66d9196",
   "metadata": {},
   "source": [
    " What is early stopping?\n",
    "Early stopping is a technique used to prevent overfitting during training. It stops the training process when the model's performance on a validation set no longer improves for a specified number of iterations (patience).\n",
    "\n",
    "How it works:\n",
    "Monitor a metric (e.g., accuracy, loss) on the validation set.\n",
    "If the metric does not improve for a defined number of iterations, stop training.\n",
    "This saves computational resources and prevents the model from overfitting on the training data."
   ]
  },
  {
   "cell_type": "raw",
   "id": "4c700ca6-533a-4d93-b861-e91c69b6c621",
   "metadata": {},
   "source": [
    "What is a weak learner?\n",
    "A weak learner is a model that performs slightly better than random guessing on a classification or regression task.\n",
    "\n",
    "Examples of weak learners:\n",
    "Decision stumps (shallow decision trees).\n",
    "Simple linear models."
   ]
  },
  {
   "cell_type": "code",
   "execution_count": null,
   "id": "20463c96-7f9a-4d40-abe0-d4cbc00deca0",
   "metadata": {},
   "outputs": [],
   "source": []
  }
 ],
 "metadata": {
  "kernelspec": {
   "display_name": "Python 3 (ipykernel)",
   "language": "python",
   "name": "python3"
  },
  "language_info": {
   "codemirror_mode": {
    "name": "ipython",
    "version": 3
   },
   "file_extension": ".py",
   "mimetype": "text/x-python",
   "name": "python",
   "nbconvert_exporter": "python",
   "pygments_lexer": "ipython3",
   "version": "3.12.4"
  }
 },
 "nbformat": 4,
 "nbformat_minor": 5
}
