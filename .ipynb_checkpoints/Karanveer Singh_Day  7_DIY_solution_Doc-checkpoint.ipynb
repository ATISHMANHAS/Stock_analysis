{
 "cells": [
  {
   "cell_type": "code",
   "execution_count": null,
   "id": "8f2ac719-b8f4-4f35-b350-f0adc398ee56",
   "metadata": {},
   "outputs": [],
   "source": [
    "Problem statement - understanding array functions"
   ]
  },
  {
   "cell_type": "code",
   "execution_count": 6,
   "id": "693e2a54-0f59-4911-b430-eb99ca70c199",
   "metadata": {},
   "outputs": [
    {
     "name": "stdin",
     "output_type": "stream",
     "text": [
      "what number of speed you want to enter 5\n",
      "enter the speed in km/h 10\n",
      "enter the speed in km/h 25\n",
      "enter the speed in km/h 65\n",
      "enter the speed in km/h 56\n",
      "enter the speed in km/h 42\n"
     ]
    },
    {
     "name": "stdout",
     "output_type": "stream",
     "text": [
      "the average speed is 39.6\n"
     ]
    }
   ],
   "source": [
    "import numpy as np\n",
    "n = int(input(\"what number of speed you want to enter\"))\n",
    "\n",
    "l=[]\n",
    "for i in range(n):\n",
    "    a = int(input(\"enter the speed in km/h\"))\n",
    "    l.append(a)\n",
    "l=np.array(l)\n",
    "x=l.sum()\n",
    "print(\"the average speed is\",x/n)"
   ]
  },
  {
   "cell_type": "code",
   "execution_count": null,
   "id": "8e982124-e626-43f2-9774-cfe31a60cb1f",
   "metadata": {},
   "outputs": [],
   "source": [
    "Problem Statement - array indexing/slicing"
   ]
  },
  {
   "cell_type": "code",
   "execution_count": 22,
   "id": "0ceb615c-4f63-4822-9594-30d065715e3d",
   "metadata": {},
   "outputs": [
    {
     "name": "stdout",
     "output_type": "stream",
     "text": [
      "the array is\n",
      "[[[1 2 3 4]\n",
      "  [2 3 4 5]]\n",
      "\n",
      " [[5 6 7 8]\n",
      "  [7 8 9 0]]]\n",
      "\n",
      "the first two rows are\n",
      "[[1 2 3 4]\n",
      " [2 3 4 5]]\n",
      "\n",
      "the last two columns are\n",
      "[[[3 4]\n",
      "  [4 5]]\n",
      "\n",
      " [[7 8]\n",
      "  [9 0]]]\n"
     ]
    }
   ],
   "source": [
    "l = np.array([[[1,2,3,4],[2,3,4,5]],[[5,6,7,8],[7,8,9,0]]])\n",
    "print(\"the array is\")\n",
    "print(l)\n",
    "print()\n",
    "print(\"the first two rows are\")\n",
    "print(l[0,0:2])\n",
    "print()\n",
    "print(\"the last two columns are\")\n",
    "print(l[:,:,-2:])"
   ]
  },
  {
   "cell_type": "code",
   "execution_count": null,
   "id": "a3777a2d-b622-484a-8161-f60787237a47",
   "metadata": {},
   "outputs": [],
   "source": []
  },
  {
   "cell_type": "code",
   "execution_count": null,
   "id": "f7c66ba9-4006-4c70-8dca-8dbb88371691",
   "metadata": {},
   "outputs": [],
   "source": []
  },
  {
   "cell_type": "code",
   "execution_count": null,
   "id": "89fd6b0b-7e4e-4f24-9328-66fcf34a1884",
   "metadata": {},
   "outputs": [],
   "source": []
  },
  {
   "cell_type": "code",
   "execution_count": null,
   "id": "fcae0746-e214-4121-9e63-66342bb5ca76",
   "metadata": {},
   "outputs": [],
   "source": []
  }
 ],
 "metadata": {
  "kernelspec": {
   "display_name": "Python 3 (ipykernel)",
   "language": "python",
   "name": "python3"
  },
  "language_info": {
   "codemirror_mode": {
    "name": "ipython",
    "version": 3
   },
   "file_extension": ".py",
   "mimetype": "text/x-python",
   "name": "python",
   "nbconvert_exporter": "python",
   "pygments_lexer": "ipython3",
   "version": "3.12.4"
  }
 },
 "nbformat": 4,
 "nbformat_minor": 5
}
